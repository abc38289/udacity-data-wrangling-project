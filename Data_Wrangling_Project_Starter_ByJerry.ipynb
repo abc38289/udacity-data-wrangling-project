{
 "cells": [
  {
   "cell_type": "markdown",
   "metadata": {
    "id": "GNIwe5N7s0e_"
   },
   "source": [
    "# Real-world Data Wrangling"
   ]
  },
  {
   "cell_type": "markdown",
   "metadata": {
    "id": "_BG63Tpg8ep_"
   },
   "source": [
    "In this project, you will apply the skills you acquired in the course to gather and wrangle real-world data with two datasets of your choice.\n",
    "\n",
    "You will retrieve and extract the data, assess the data programmatically and visually, accross elements of data quality and structure, and implement a cleaning strategy for the data. You will then store the updated data into your selected database/data store, combine the data, and answer a research question with the datasets.\n",
    "\n",
    "Throughout the process, you are expected to:\n",
    "\n",
    "1. Explain your decisions towards methods used for gathering, assessing, cleaning, storing, and answering the research question\n",
    "2. Write code comments so your code is more readable"
   ]
  },
  {
   "cell_type": "markdown",
   "metadata": {
    "id": "lDYDkH-Zs7Nn"
   },
   "source": [
    "## 1. Gather data\n",
    "\n",
    "In this section, you will extract data using two different data gathering methods and combine the data. Use at least two different types of data-gathering methods."
   ]
  },
  {
   "cell_type": "markdown",
   "metadata": {
    "id": "LbN7z7rcuqpO"
   },
   "source": [
    "### **1.1.** Problem Statement\n",
    "In 2-4 sentences, explain the kind of problem you want to look at and the datasets you will be wrangling for this project."
   ]
  },
  {
   "cell_type": "markdown",
   "metadata": {
    "id": "gi6swhjSYqu2"
   },
   "source": [
    "With the rapid growth of esports, understanding the current overall trends is a fascinating endeavor. By analyzing the data from Esports Earnings 1998-2023 on Kaggle, we can quickly gain insights:\n",
    "\n",
    "1. Top 10 Earnings by Game All Times\n",
    "2. Top Genre Earnings All Times"
   ]
  },
  {
   "cell_type": "markdown",
   "metadata": {
    "id": "8AQfBAdUypMm"
   },
   "source": [
    "### **1.2.** Gather at least two datasets using two different data gathering methods\n",
    "\n",
    "List of data gathering methods:\n",
    "\n",
    "- Download data manually\n",
    "- Programmatically downloading files\n",
    "- Gather data by accessing APIs\n",
    "- Gather and extract data from HTML files using BeautifulSoup\n",
    "- Extract data from a SQL database\n",
    "\n",
    "Each dataset must have at least two variables, and have greater than 500 data samples within each dataset.\n",
    "\n",
    "For each dataset, briefly describe why you picked the dataset and the gathering method (2-3 full sentences), including the names and significance of the variables in the dataset. Show your work (e.g., if using an API to download the data, please include a snippet of your code). \n",
    "\n",
    "Load the dataset programmtically into this notebook."
   ]
  },
  {
   "cell_type": "code",
   "execution_count": 1,
   "metadata": {},
   "outputs": [],
   "source": [
    "import pandas as pd\n",
    "import numpy as np\n",
    "import requests\n",
    "import json\n",
    "import matplotlib.pyplot as plt\n",
    "import os\n",
    "import seaborn as sns\n",
    "plt.style.use('ggplot')"
   ]
  },
  {
   "cell_type": "markdown",
   "metadata": {
    "id": "7e6gS0wL1KTu"
   },
   "source": [
    "#### **Dataset 1:** GeneralEsportData\n",
    "\n",
    "I chose this dataset because I am curious about every esports game release day, and the data set contains every esports game's total prize in the tournament. We can easily find which game's tournaments have the largest prize pool.\n",
    "\n",
    "Type: CSV File\n",
    "\n",
    "Method: The data was gathered using the \"Downloading files\" method from [Kaggle](https://www.kaggle.com/datasets/rankirsh/esports-earnings/data?select=GeneralEsportData.csv.)\n",
    "\n",
    "Dataset variables:\n",
    "\n",
    "*   *Variable 1 GAME: Game name\n",
    "*   *Variable 2 ReleaseDate: Release Date of game\n",
    "*   *Variable 3 Genre: Genre of game\n",
    "*   *Variable 4 TotalEarnings: Total prizepool allocated in tournaments\n",
    "*   *Variable 5 OfflineEarnings: Amount of earnings allocated in Offline/Lan events\n",
    "*   *Variable 6 PercentOffline: Percent of earnings coming from offline tournaments\n",
    "*   *Variable 7 TotalPlayers: Total amount of players who received a prize\n",
    "*   *Variable 8 TotalTournaments: Total amount of tournaments in the site"
   ]
  },
  {
   "cell_type": "code",
   "execution_count": 2,
   "metadata": {
    "id": "Su8E0uLuYkHU"
   },
   "outputs": [
    {
     "data": {
      "text/html": [
       "<div>\n",
       "<style scoped>\n",
       "    .dataframe tbody tr th:only-of-type {\n",
       "        vertical-align: middle;\n",
       "    }\n",
       "\n",
       "    .dataframe tbody tr th {\n",
       "        vertical-align: top;\n",
       "    }\n",
       "\n",
       "    .dataframe thead th {\n",
       "        text-align: right;\n",
       "    }\n",
       "</style>\n",
       "<table border=\"1\" class=\"dataframe\">\n",
       "  <thead>\n",
       "    <tr style=\"text-align: right;\">\n",
       "      <th></th>\n",
       "      <th>Game</th>\n",
       "      <th>ReleaseDate</th>\n",
       "      <th>Genre</th>\n",
       "      <th>TotalEarnings</th>\n",
       "      <th>OfflineEarnings</th>\n",
       "      <th>PercentOffline</th>\n",
       "      <th>TotalPlayers</th>\n",
       "      <th>TotalTournaments</th>\n",
       "    </tr>\n",
       "  </thead>\n",
       "  <tbody>\n",
       "    <tr>\n",
       "      <th>0</th>\n",
       "      <td>Age of Empires</td>\n",
       "      <td>1997</td>\n",
       "      <td>Strategy</td>\n",
       "      <td>510716.46</td>\n",
       "      <td>375857.63</td>\n",
       "      <td>0.735942</td>\n",
       "      <td>473</td>\n",
       "      <td>265</td>\n",
       "    </tr>\n",
       "    <tr>\n",
       "      <th>1</th>\n",
       "      <td>Age of Empires II</td>\n",
       "      <td>1999</td>\n",
       "      <td>Strategy</td>\n",
       "      <td>3253232.59</td>\n",
       "      <td>1139384.57</td>\n",
       "      <td>0.350232</td>\n",
       "      <td>1994</td>\n",
       "      <td>1613</td>\n",
       "    </tr>\n",
       "  </tbody>\n",
       "</table>\n",
       "</div>"
      ],
      "text/plain": [
       "                Game  ReleaseDate     Genre  TotalEarnings  OfflineEarnings  \\\n",
       "0     Age of Empires         1997  Strategy      510716.46        375857.63   \n",
       "1  Age of Empires II         1999  Strategy     3253232.59       1139384.57   \n",
       "\n",
       "   PercentOffline  TotalPlayers  TotalTournaments  \n",
       "0        0.735942           473               265  \n",
       "1        0.350232          1994              1613  "
      ]
     },
     "execution_count": 2,
     "metadata": {},
     "output_type": "execute_result"
    }
   ],
   "source": [
    "#download data manually\n",
    "path = \"Data/GeneralEsportData.csv\"\n",
    "df_games = pd.read_csv(path)\n",
    "df_games.head(2)"
   ]
  },
  {
   "cell_type": "markdown",
   "metadata": {
    "id": "hoUjq1tPzz7P"
   },
   "source": [
    "#### Dataset 2 HistoricalEsportData.csv\n",
    "\n",
    "I chose this dataset because I am curious about historical esports data. In this file, we can find monthly data from 01/1998 to 10/2023 containing earnings for every game on the site.\n",
    "\n",
    "Type: CSV File\n",
    "\n",
    "Method: The data was gathered using the \"Programmatically\" method from  [Kaggle](https://www.kaggle.com/datasets/rankirsh/esports-earnings/data?select=GeneralEsportData.csv.)\n",
    "\n",
    "Dataset variables:\n",
    "\n",
    "*   *Variable 1 Date: Month\n",
    "*   *Variable 2 Game: Game name\n",
    "*   *Variable 3 Earnings: The earnings from the tournaments\n",
    "*   *Variable 4 Players: The player who participate in the tournaments\n",
    "*   *Variable 5 Tournaments: The number of tournaments held"
   ]
  },
  {
   "cell_type": "code",
   "execution_count": 3,
   "metadata": {
    "id": "6zT0QxRyYmm7"
   },
   "outputs": [],
   "source": [
    "#download data programmatically\n",
    "# Get the file ID from the Google Drive link\n",
    "file_id = '1B08LUIPy7jiTjbitMAWqvcVly5EFPfea'\n",
    "\n",
    "# Construct the direct download link\n",
    "download_link = f'https://drive.google.com/uc?id={file_id}'\n",
    "\n",
    "# Download the file\n",
    "def download_data():\n",
    "    r = requests.get(download_link, allow_redirects=True)\n",
    "    open('Data/HistoricalEsportData.csv', 'wb').write(r.content)\n",
    "\n",
    "download_data()"
   ]
  },
  {
   "cell_type": "code",
   "execution_count": 4,
   "metadata": {},
   "outputs": [
    {
     "data": {
      "text/html": [
       "<div>\n",
       "<style scoped>\n",
       "    .dataframe tbody tr th:only-of-type {\n",
       "        vertical-align: middle;\n",
       "    }\n",
       "\n",
       "    .dataframe tbody tr th {\n",
       "        vertical-align: top;\n",
       "    }\n",
       "\n",
       "    .dataframe thead th {\n",
       "        text-align: right;\n",
       "    }\n",
       "</style>\n",
       "<table border=\"1\" class=\"dataframe\">\n",
       "  <thead>\n",
       "    <tr style=\"text-align: right;\">\n",
       "      <th></th>\n",
       "      <th>Date</th>\n",
       "      <th>Game</th>\n",
       "      <th>Earnings</th>\n",
       "      <th>Players</th>\n",
       "      <th>Tournaments</th>\n",
       "    </tr>\n",
       "  </thead>\n",
       "  <tbody>\n",
       "    <tr>\n",
       "      <th>0</th>\n",
       "      <td>1998-01-01</td>\n",
       "      <td>Command &amp; Conquer: Red Alert</td>\n",
       "      <td>15000.0</td>\n",
       "      <td>8</td>\n",
       "      <td>1</td>\n",
       "    </tr>\n",
       "    <tr>\n",
       "      <th>1</th>\n",
       "      <td>1998-01-01</td>\n",
       "      <td>QuakeWorld</td>\n",
       "      <td>15000.0</td>\n",
       "      <td>8</td>\n",
       "      <td>1</td>\n",
       "    </tr>\n",
       "  </tbody>\n",
       "</table>\n",
       "</div>"
      ],
      "text/plain": [
       "         Date                          Game  Earnings  Players  Tournaments\n",
       "0  1998-01-01  Command & Conquer: Red Alert   15000.0        8            1\n",
       "1  1998-01-01                    QuakeWorld   15000.0        8            1"
      ]
     },
     "execution_count": 4,
     "metadata": {},
     "output_type": "execute_result"
    }
   ],
   "source": [
    "df_earnings = pd.read_csv('Data/HistoricalEsportData.csv')\n",
    "df_earnings.head(2)"
   ]
  },
  {
   "cell_type": "markdown",
   "metadata": {},
   "source": [
    "Optional data storing step: You may save your raw dataset files to the local data store before moving to the next step."
   ]
  },
  {
   "cell_type": "code",
   "execution_count": 5,
   "metadata": {},
   "outputs": [
    {
     "name": "stdout",
     "output_type": "stream",
     "text": [
      "(650, 8)\n",
      "(9244, 5)\n"
     ]
    }
   ],
   "source": [
    "#Optional: store the raw data in your local data store\n",
    "df_games_clean = df_games.copy()\n",
    "df_earnings_clean = df_earnings.copy()\n",
    "\n",
    "print(df_games_clean.shape)\n",
    "print(df_earnings_clean.shape)"
   ]
  },
  {
   "cell_type": "markdown",
   "metadata": {
    "id": "QwSWIVmotLgV"
   },
   "source": [
    "## 2. Assess data\n",
    "\n",
    "Assess the data according to data quality and tidiness metrics using the report below.\n",
    "\n",
    "List **two** data quality issues and **two** tidiness issues. Assess each data issue visually **and** programmatically, then briefly describe the issue you find.  **Make sure you include justifications for the methods you use for the assessment.**"
   ]
  },
  {
   "cell_type": "markdown",
   "metadata": {},
   "source": [
    "### GAMES Dataframe"
   ]
  },
  {
   "cell_type": "code",
   "execution_count": 6,
   "metadata": {},
   "outputs": [
    {
     "data": {
      "text/html": [
       "<div>\n",
       "<style scoped>\n",
       "    .dataframe tbody tr th:only-of-type {\n",
       "        vertical-align: middle;\n",
       "    }\n",
       "\n",
       "    .dataframe tbody tr th {\n",
       "        vertical-align: top;\n",
       "    }\n",
       "\n",
       "    .dataframe thead th {\n",
       "        text-align: right;\n",
       "    }\n",
       "</style>\n",
       "<table border=\"1\" class=\"dataframe\">\n",
       "  <thead>\n",
       "    <tr style=\"text-align: right;\">\n",
       "      <th></th>\n",
       "      <th>Game</th>\n",
       "      <th>ReleaseDate</th>\n",
       "      <th>Genre</th>\n",
       "      <th>TotalEarnings</th>\n",
       "      <th>OfflineEarnings</th>\n",
       "      <th>PercentOffline</th>\n",
       "      <th>TotalPlayers</th>\n",
       "      <th>TotalTournaments</th>\n",
       "    </tr>\n",
       "  </thead>\n",
       "  <tbody>\n",
       "    <tr>\n",
       "      <th>0</th>\n",
       "      <td>Age of Empires</td>\n",
       "      <td>1997</td>\n",
       "      <td>Strategy</td>\n",
       "      <td>510716.46</td>\n",
       "      <td>375857.63</td>\n",
       "      <td>0.735942</td>\n",
       "      <td>473</td>\n",
       "      <td>265</td>\n",
       "    </tr>\n",
       "    <tr>\n",
       "      <th>1</th>\n",
       "      <td>Age of Empires II</td>\n",
       "      <td>1999</td>\n",
       "      <td>Strategy</td>\n",
       "      <td>3253232.59</td>\n",
       "      <td>1139384.57</td>\n",
       "      <td>0.350232</td>\n",
       "      <td>1994</td>\n",
       "      <td>1613</td>\n",
       "    </tr>\n",
       "  </tbody>\n",
       "</table>\n",
       "</div>"
      ],
      "text/plain": [
       "                Game  ReleaseDate     Genre  TotalEarnings  OfflineEarnings  \\\n",
       "0     Age of Empires         1997  Strategy      510716.46        375857.63   \n",
       "1  Age of Empires II         1999  Strategy     3253232.59       1139384.57   \n",
       "\n",
       "   PercentOffline  TotalPlayers  TotalTournaments  \n",
       "0        0.735942           473               265  \n",
       "1        0.350232          1994              1613  "
      ]
     },
     "execution_count": 6,
     "metadata": {},
     "output_type": "execute_result"
    }
   ],
   "source": [
    "#Inspecting the dataframe visually\n",
    "df_games_clean.head(2)"
   ]
  },
  {
   "cell_type": "code",
   "execution_count": 7,
   "metadata": {
    "id": "SpW59kh-zl8d"
   },
   "outputs": [
    {
     "name": "stdout",
     "output_type": "stream",
     "text": [
      "<class 'pandas.core.frame.DataFrame'>\n",
      "RangeIndex: 650 entries, 0 to 649\n",
      "Data columns (total 8 columns):\n",
      " #   Column            Non-Null Count  Dtype  \n",
      "---  ------            --------------  -----  \n",
      " 0   Game              650 non-null    object \n",
      " 1   ReleaseDate       650 non-null    int64  \n",
      " 2   Genre             650 non-null    object \n",
      " 3   TotalEarnings     650 non-null    float64\n",
      " 4   OfflineEarnings   650 non-null    float64\n",
      " 5   PercentOffline    583 non-null    float64\n",
      " 6   TotalPlayers      650 non-null    int64  \n",
      " 7   TotalTournaments  650 non-null    int64  \n",
      "dtypes: float64(3), int64(3), object(2)\n",
      "memory usage: 40.8+ KB\n"
     ]
    }
   ],
   "source": [
    "df_games_clean.info()"
   ]
  },
  {
   "cell_type": "markdown",
   "metadata": {},
   "source": [
    "Quality Issue1 - Accuracy: The `ReleaseDate` is in int64, but it should be date-time type."
   ]
  },
  {
   "cell_type": "code",
   "execution_count": 8,
   "metadata": {},
   "outputs": [
    {
     "data": {
      "text/html": [
       "<div>\n",
       "<style scoped>\n",
       "    .dataframe tbody tr th:only-of-type {\n",
       "        vertical-align: middle;\n",
       "    }\n",
       "\n",
       "    .dataframe tbody tr th {\n",
       "        vertical-align: top;\n",
       "    }\n",
       "\n",
       "    .dataframe thead th {\n",
       "        text-align: right;\n",
       "    }\n",
       "</style>\n",
       "<table border=\"1\" class=\"dataframe\">\n",
       "  <thead>\n",
       "    <tr style=\"text-align: right;\">\n",
       "      <th></th>\n",
       "      <th>ReleaseDate</th>\n",
       "      <th>TotalEarnings</th>\n",
       "      <th>OfflineEarnings</th>\n",
       "      <th>PercentOffline</th>\n",
       "      <th>TotalPlayers</th>\n",
       "      <th>TotalTournaments</th>\n",
       "    </tr>\n",
       "  </thead>\n",
       "  <tbody>\n",
       "    <tr>\n",
       "      <th>count</th>\n",
       "      <td>650.000000</td>\n",
       "      <td>6.500000e+02</td>\n",
       "      <td>6.500000e+02</td>\n",
       "      <td>583.000000</td>\n",
       "      <td>650.000000</td>\n",
       "      <td>650.000000</td>\n",
       "    </tr>\n",
       "    <tr>\n",
       "      <th>mean</th>\n",
       "      <td>2012.576923</td>\n",
       "      <td>2.527759e+06</td>\n",
       "      <td>1.774991e+06</td>\n",
       "      <td>0.659145</td>\n",
       "      <td>226.541538</td>\n",
       "      <td>94.078462</td>\n",
       "    </tr>\n",
       "    <tr>\n",
       "      <th>std</th>\n",
       "      <td>7.436703</td>\n",
       "      <td>1.758171e+07</td>\n",
       "      <td>1.377120e+07</td>\n",
       "      <td>0.412233</td>\n",
       "      <td>964.342887</td>\n",
       "      <td>479.807202</td>\n",
       "    </tr>\n",
       "    <tr>\n",
       "      <th>min</th>\n",
       "      <td>1981.000000</td>\n",
       "      <td>0.000000e+00</td>\n",
       "      <td>0.000000e+00</td>\n",
       "      <td>0.000000</td>\n",
       "      <td>0.000000</td>\n",
       "      <td>0.000000</td>\n",
       "    </tr>\n",
       "    <tr>\n",
       "      <th>25%</th>\n",
       "      <td>2007.000000</td>\n",
       "      <td>1.000000e+03</td>\n",
       "      <td>0.000000e+00</td>\n",
       "      <td>0.219244</td>\n",
       "      <td>4.000000</td>\n",
       "      <td>1.000000</td>\n",
       "    </tr>\n",
       "    <tr>\n",
       "      <th>50%</th>\n",
       "      <td>2015.000000</td>\n",
       "      <td>3.636129e+04</td>\n",
       "      <td>1.500000e+04</td>\n",
       "      <td>0.906896</td>\n",
       "      <td>22.000000</td>\n",
       "      <td>5.000000</td>\n",
       "    </tr>\n",
       "    <tr>\n",
       "      <th>75%</th>\n",
       "      <td>2019.000000</td>\n",
       "      <td>2.563600e+05</td>\n",
       "      <td>1.715892e+05</td>\n",
       "      <td>1.000000</td>\n",
       "      <td>99.500000</td>\n",
       "      <td>27.750000</td>\n",
       "    </tr>\n",
       "    <tr>\n",
       "      <th>max</th>\n",
       "      <td>2023.000000</td>\n",
       "      <td>3.371080e+08</td>\n",
       "      <td>2.982906e+08</td>\n",
       "      <td>1.000000</td>\n",
       "      <td>16272.000000</td>\n",
       "      <td>7245.000000</td>\n",
       "    </tr>\n",
       "  </tbody>\n",
       "</table>\n",
       "</div>"
      ],
      "text/plain": [
       "       ReleaseDate  TotalEarnings  OfflineEarnings  PercentOffline  \\\n",
       "count   650.000000   6.500000e+02     6.500000e+02      583.000000   \n",
       "mean   2012.576923   2.527759e+06     1.774991e+06        0.659145   \n",
       "std       7.436703   1.758171e+07     1.377120e+07        0.412233   \n",
       "min    1981.000000   0.000000e+00     0.000000e+00        0.000000   \n",
       "25%    2007.000000   1.000000e+03     0.000000e+00        0.219244   \n",
       "50%    2015.000000   3.636129e+04     1.500000e+04        0.906896   \n",
       "75%    2019.000000   2.563600e+05     1.715892e+05        1.000000   \n",
       "max    2023.000000   3.371080e+08     2.982906e+08        1.000000   \n",
       "\n",
       "       TotalPlayers  TotalTournaments  \n",
       "count    650.000000        650.000000  \n",
       "mean     226.541538         94.078462  \n",
       "std      964.342887        479.807202  \n",
       "min        0.000000          0.000000  \n",
       "25%        4.000000          1.000000  \n",
       "50%       22.000000          5.000000  \n",
       "75%       99.500000         27.750000  \n",
       "max    16272.000000       7245.000000  "
      ]
     },
     "execution_count": 8,
     "metadata": {},
     "output_type": "execute_result"
    }
   ],
   "source": [
    "df_games_clean.describe()"
   ]
  },
  {
   "cell_type": "markdown",
   "metadata": {},
   "source": [
    "Quality Issue2 - Invalid data: We can find 0 in `TotalEarnings`. We can drop it."
   ]
  },
  {
   "cell_type": "code",
   "execution_count": 9,
   "metadata": {
    "id": "-qfcocStzsKg"
   },
   "outputs": [
    {
     "data": {
      "text/plain": [
       "Game                 0\n",
       "ReleaseDate          0\n",
       "Genre                0\n",
       "TotalEarnings        0\n",
       "OfflineEarnings      0\n",
       "PercentOffline      67\n",
       "TotalPlayers         0\n",
       "TotalTournaments     0\n",
       "dtype: int64"
      ]
     },
     "execution_count": 9,
     "metadata": {},
     "output_type": "execute_result"
    }
   ],
   "source": [
    "#Inspecting the dataframe programmatically\n",
    "# check missing value\n",
    "df_games_clean.isnull().sum()"
   ]
  },
  {
   "cell_type": "code",
   "execution_count": 10,
   "metadata": {},
   "outputs": [
    {
     "data": {
      "text/plain": [
       "0"
      ]
     },
     "execution_count": 10,
     "metadata": {},
     "output_type": "execute_result"
    }
   ],
   "source": [
    "#check duplicate value\n",
    "sum(df_games_clean.duplicated())"
   ]
  },
  {
   "cell_type": "code",
   "execution_count": 11,
   "metadata": {},
   "outputs": [
    {
     "data": {
      "text/plain": [
       "array(['Strategy', 'First-Person Shooter',\n",
       "       'Multiplayer Online Battle Arena', 'Role-Playing Game',\n",
       "       'Fighting Game', 'Racing', 'Sports', 'Collectible Card Game',\n",
       "       'Puzzle Game', 'Battle Royale', 'Third-Person Shooter',\n",
       "       'Music / Rhythm Game'], dtype=object)"
      ]
     },
     "execution_count": 11,
     "metadata": {},
     "output_type": "execute_result"
    }
   ],
   "source": [
    "df_games_clean['Genre'].unique()"
   ]
  },
  {
   "cell_type": "markdown",
   "metadata": {},
   "source": [
    "Tidiness Issue1 - Clarity: The value name is hard to identify. We can make it more transparent by simplifying it."
   ]
  },
  {
   "cell_type": "code",
   "execution_count": 12,
   "metadata": {},
   "outputs": [
    {
     "data": {
      "text/html": [
       "<div>\n",
       "<style scoped>\n",
       "    .dataframe tbody tr th:only-of-type {\n",
       "        vertical-align: middle;\n",
       "    }\n",
       "\n",
       "    .dataframe tbody tr th {\n",
       "        vertical-align: top;\n",
       "    }\n",
       "\n",
       "    .dataframe thead th {\n",
       "        text-align: right;\n",
       "    }\n",
       "</style>\n",
       "<table border=\"1\" class=\"dataframe\">\n",
       "  <thead>\n",
       "    <tr style=\"text-align: right;\">\n",
       "      <th></th>\n",
       "      <th>Game</th>\n",
       "      <th>ReleaseDate</th>\n",
       "      <th>Genre</th>\n",
       "      <th>TotalEarnings</th>\n",
       "      <th>OfflineEarnings</th>\n",
       "      <th>PercentOffline</th>\n",
       "      <th>TotalPlayers</th>\n",
       "      <th>TotalTournaments</th>\n",
       "    </tr>\n",
       "  </thead>\n",
       "  <tbody>\n",
       "    <tr>\n",
       "      <th>350</th>\n",
       "      <td>Samurai Shodown (2019)</td>\n",
       "      <td>2019</td>\n",
       "      <td>Fighting Game</td>\n",
       "      <td>77983.31</td>\n",
       "      <td>77858.31</td>\n",
       "      <td>0.998397</td>\n",
       "      <td>75</td>\n",
       "      <td>20</td>\n",
       "    </tr>\n",
       "  </tbody>\n",
       "</table>\n",
       "</div>"
      ],
      "text/plain": [
       "                       Game  ReleaseDate          Genre  TotalEarnings  \\\n",
       "350  Samurai Shodown (2019)         2019  Fighting Game       77983.31   \n",
       "\n",
       "     OfflineEarnings  PercentOffline  TotalPlayers  TotalTournaments  \n",
       "350         77858.31        0.998397            75                20  "
      ]
     },
     "execution_count": 12,
     "metadata": {},
     "output_type": "execute_result"
    }
   ],
   "source": [
    "df_games_clean[df_games_clean['Game'] == 'Samurai Shodown (2019)']"
   ]
  },
  {
   "cell_type": "code",
   "execution_count": 13,
   "metadata": {},
   "outputs": [
    {
     "data": {
      "text/plain": [
       "array(['Age of Empires', 'Age of Empires II', 'Age of Empires III',\n",
       "       'Age of Empires IV', 'Age of Empires Online', 'Age of Mythology',\n",
       "       'Among Us', 'Auto Chess', 'Brawl Stars', 'Chess.com', 'chess24',\n",
       "       'chessarena.com', 'Clash of Clans', 'Clash Royale',\n",
       "       'Clash Royale x Chess', 'Command & Conquer 3',\n",
       "       'Command & Conquer: Red Alert', 'Company of Heroes 2', 'ComPet',\n",
       "       'Dead By Daylight', 'Dead by Daylight Mobile', 'Dota Underlords',\n",
       "       'Endgods', 'Farming Simulator 19', 'Farming Simulator 22',\n",
       "       'Grey Goo', 'Heroes of Might and Magic III', 'Identity V',\n",
       "       'Internet Chess Club', 'Iron Harvest', 'Legion TD 2', 'Lichess',\n",
       "       'Loco Dojo Unleashed', 'Men of War: Assault Squad 2',\n",
       "       'Multigaming', 'Playchess.com', 'Pokémon GO', 'Pokémon VGC',\n",
       "       'Prophecy', 'Rise of Nations: Rise of Legends', 'Sea of Thieves',\n",
       "       'Star Wars: Squadrons', 'StarCraft II', 'StarCraft: Brood War',\n",
       "       'StarCraft: Remastered', 'Summoners War: Sky Arena',\n",
       "       'Super Mario Party', 'Supreme Commander',\n",
       "       'Supreme Commander: Forged Alliance', 'Teamfight Tactics',\n",
       "       'Temtem', 'TEPPEN', 'The Binding of Isaac', 'Total Annihilation',\n",
       "       'UNO', 'WarCraft III', 'WarCraft III: Reforged',\n",
       "       'Warhammer 40,000: Dawn of War',\n",
       "       'Warhammer 40,000: Dawn of War II', 'Warparty', 'Windjammers',\n",
       "       'World in Conflict', 'World of Tanks', 'World of Tanks Blitz',\n",
       "       'After-H', 'Aim Gods', 'Aliens versus Predator 2',\n",
       "       'Alliance of Valiant Arms', 'Archangel Hellfire', 'Arctic Combat',\n",
       "       'Battalion 1944', 'Battlefield 1', 'Battlefield 2',\n",
       "       'Battlefield 2142', 'Battlefield 3', 'Battlefield 4',\n",
       "       'Battlefield Hardline', 'Battlefield V', 'Beat Aim',\n",
       "       'Big Buck Hunter Arcade', 'Black Squad', 'Blaston',\n",
       "       'Borderlands 3', 'Call of Duty', 'Call of Duty 2',\n",
       "       'Call of Duty 4: Modern Warfare', 'Call of Duty: Advanced Warfare',\n",
       "       'Call of Duty: Black Ops', 'Call of Duty: Black Ops 2',\n",
       "       'Call of Duty: Black Ops 4', 'Call of Duty: Black Ops Cold War',\n",
       "       'Call of Duty: Black Ops III', 'Call of Duty: Blackout',\n",
       "       'Call of Duty: Ghosts', 'Call of Duty: Infinite Warfare',\n",
       "       'Call of Duty: Mobile', 'Call of Duty: Modern Warfare',\n",
       "       'Call of Duty: Modern Warfare 2', 'Call of Duty: Modern Warfare 3',\n",
       "       'Call of Duty: Modern Warfare II', 'Call of Duty: Vanguard',\n",
       "       'Call of Duty: Warzone', 'Call of Duty: Warzone 2.0',\n",
       "       'Call of Duty: WWII', 'Chex Quest', 'Contractors',\n",
       "       'Counter-Strike', 'Counter-Strike 2', 'Counter-Strike Online',\n",
       "       'Counter-Strike: Condition Zero',\n",
       "       'Counter-Strike: Global Offensive', 'Counter-Strike: Source',\n",
       "       'Critical Ops', 'CrossFire', 'CrossFire HD', 'CrossFire Mobile',\n",
       "       'Crysis', 'Day of Defeat', 'Day of Defeat: Source', 'Descent 3',\n",
       "       'Diabotical', 'Doom (2016)', 'Doom 3', 'Doom II: Hell on Earth',\n",
       "       'DOOMBRINGER', 'Echo Combat', 'Enemy Territory: Quake Wars',\n",
       "       'Escape from Tarkov', 'EV.IO', 'Evolve', 'F.E.A.R.',\n",
       "       'Ghost Recon Advanced Warfighter', 'Gundam Versus', 'Guns of Boom',\n",
       "       'Halo 2', 'Halo 2 Anniversary', 'Halo 3', 'Halo 4',\n",
       "       'Halo 5: Guardians', 'Halo Infinite', 'Halo: Combat Evolved',\n",
       "       'Halo: Reach', 'Ironsight', 'Islands of Nyne', 'Lemnis Gate',\n",
       "       'MechWarrior Online', 'Metal Gear Online', 'Onward', 'Overwatch',\n",
       "       'Overwatch 2', 'Painkiller', 'Paladins', 'Pavlov', 'Pistol Whip',\n",
       "       'Point Blank', 'Quake 4', 'Quake Champions', 'Quake II',\n",
       "       'Quake III Arena', 'Quake Live', 'QuakeWorld', 'Rage',\n",
       "       'Rainbow Six Extraction', 'Rainbow Six Siege',\n",
       "       'Rainbow Six: Vegas', 'Rainbow Six: Vegas 2', 'Realm Royale',\n",
       "       'Reflex', 'Resistance 2', 'Return to Castle Wolfenstein', 'Rust',\n",
       "       'S.K.I.L.L. - Special Force 2',\n",
       "       'S.T.A.L.K.E.R.: Shadow of Chernobyl', 'Shadowrun',\n",
       "       'ShootMania Storm', 'Snapshot VR', 'Space Junkies',\n",
       "       'Special Force', 'Splatoon', 'Splatoon 2',\n",
       "       'Star Wars Jedi Knight II: Jedi Outcast', 'Sudden Attack',\n",
       "       'Team Fortress 2', 'Tower Tag', \"Uncharted 4: A Thief's End\",\n",
       "       'Unreal Tournament', 'Unreal Tournament (2016)',\n",
       "       'Unreal Tournament 2003', 'Unreal Tournament 2004',\n",
       "       'Unreal Tournament 3', 'Vail VR', 'VAIL VR', 'VALORANT', 'Warface',\n",
       "       'Warsow', 'Wolfenstein: Enemy Territory', 'X8', 'Xonotic',\n",
       "       'Zombieland VR: Headshot Fever', 'Zula', 'Arena of Valor',\n",
       "       'Battlerite', 'Blankos Block Party', 'Bloodline Champions',\n",
       "       'Crab Game', 'Creative Destruction', 'Defense of the Ancients',\n",
       "       'Dofus', 'Dota 2', 'Dream Three Kingdoms 2',\n",
       "       'Heavy Metal Machines', 'Heroes of Newerth', 'Heroes of the Storm',\n",
       "       'Hyper Scape', 'League of Legends', 'League of Legends: Wild Rift',\n",
       "       'Legend of Glory', 'Minecraft', 'MOBA Legends',\n",
       "       'Mobile Legends: Bang Bang', 'Onmyoji Arena', 'Pokemon Unite',\n",
       "       'Roblox', 'Shards of War', 'SMITE', 'Splitgate: Arena Warfare',\n",
       "       'Teeworlds', 'Vainglory', 'Blade & Soul', 'Cave Digger 2',\n",
       "       'Chivalry 2', 'Guild Wars 2', 'Naraka: Bladepoint',\n",
       "       'Old School Runescape', 'Red Stone', 'Stardew Valley',\n",
       "       'World of WarCraft', 'Acceleration of SUGURI 2',\n",
       "       'Akatsuki Blitzkampf', 'Aquapazza: Aquaplus Dream Match',\n",
       "       'Arcana Heart 3', 'Arcana Heart 3: Love Max Six Stars!!!!!',\n",
       "       'Arcana Heart 3: LOVE MAX!!!!!', 'ARMS',\n",
       "       'Asuka 120% LimitOver BURNING Fest.',\n",
       "       'Attack on Titan Tribute Game', 'BlazBlue: Calamity Trigger',\n",
       "       'BlazBlue: Central Fiction', 'BlazBlue: Chronophantasma',\n",
       "       'BlazBlue: Chronophantasma Extend',\n",
       "       'BlazBlue: Continuum Shift Extend', 'BlazBlue: Continuum Shift II',\n",
       "       'BlazBlue: Cross Tag Battle', 'Brawlhalla', 'Brawlout',\n",
       "       'Breakers Revenge', 'Capcom vs. SNK', 'Capcom vs. SNK 2',\n",
       "       'Chaos Code: New Sign of Catastrophe', 'Dead or Alive 4',\n",
       "       'Dead or Alive 5', 'Dead or Alive 5 Ultimate',\n",
       "       'Dead or Alive 5: Last Round', 'Dead or Alive 6',\n",
       "       'Dead or Alive Ultimate', 'Def Jam: Fight for NY',\n",
       "       'Dengeki Bunko: Fighting Climax',\n",
       "       'Dengeki Bunko: Fighting Climax Ignition', 'Digimon Rumble Arena',\n",
       "       'Divekick', 'DNF Duel', 'Dragon Ball FighterZ',\n",
       "       'Dragon Ball Z: Budokai 3', 'Duck Game', 'Eternal Fighter Zero',\n",
       "       'Fantasy Strike', 'Fight of Animals', \"Fighter's History Dynamite\",\n",
       "       'Fighting EX Layer', 'Garou: Mark of the Wolves',\n",
       "       'Granblue Fantasy: Versus', 'Guilty Gear', 'Guilty Gear -STRIVE-',\n",
       "       'Guilty Gear Xrd -REVELATOR-', 'Guilty Gear Xrd -SIGN-',\n",
       "       'Guilty Gear Xrd REV 2', 'Guilty Gear XX',\n",
       "       'Guilty Gear XX #Reload', 'Guilty Gear XX Accent Core',\n",
       "       'Guilty Gear XX Accent Core Plus',\n",
       "       'Guilty Gear XX Accent Core Plus R', 'Guilty Gear XX Slash',\n",
       "       'Hokuto no Ken', 'Hyper Street Fighter II', 'HYPERFIGHT',\n",
       "       'Injustice 2', 'Injustice: Gods Among Us',\n",
       "       \"JoJo's Bizarre Adventure: All Star Battle R\",\n",
       "       \"JoJo's Bizarre Adventure: Heritage for the Future\",\n",
       "       'Kill la Kill the Game: IF', 'Killer Instinct (2013)',\n",
       "       'King of Fighters 2002 Unlimited Match', 'King of Fighters 98',\n",
       "       'King of Fighters XI', 'King of Fighters XIII',\n",
       "       'King of Fighters XIV', 'King of Fighters XV', 'Kirby Fighters 2',\n",
       "       'Koihime Enbu', 'Lethal League Blaze', 'Maiden & Spell',\n",
       "       'Marvel vs. Capcom 2', 'Marvel vs. Capcom 3',\n",
       "       'Marvel vs. Capcom: Infinite', 'Melty Blood: Actress Again',\n",
       "       'Melty Blood: Actress Again Current Code',\n",
       "       'Melty Blood: Type Lumina', 'Mighty Fight Federation',\n",
       "       'Million Arthur: Arcana Blood', 'Mordhau', 'Mortal Kombat 11',\n",
       "       'Mortal Kombat 9', 'Mortal Kombat vs. DC Universe',\n",
       "       'Mortal Kombat X', 'Mortal Kombat XL', 'MultiVersus',\n",
       "       'Mystery Game Tournament',\n",
       "       'Naruto Shippuden: Ultimate Ninja Storm 4',\n",
       "       'Naruto: Gekitou Ninja Taisen! 4', 'Ninja Legends',\n",
       "       'Nitroplus Blasterz: Heroines Infinite Duel', 'Persona 4 Arena',\n",
       "       'Persona 4 Arena Ultimax', 'Pocket Bravery', 'Pocket Rumble',\n",
       "       'Pokkén Tournament', 'Pokkén Tournament DX',\n",
       "       'Power Instinct: Matrimelee', 'Power Rangers: Battle for the Grid',\n",
       "       'Power Rangers: Legacy Wars', 'Project Justice', 'Project M',\n",
       "       'Project Plus', 'Punch Planet', 'Red Earth', 'Rising Thunder',\n",
       "       'Rivals of Aether', 'Roof Rage', 'Rushdown Revolt',\n",
       "       'Sailor Moon S', 'Samurai Shodown (2019)', 'Samurai Shodown III',\n",
       "       'Samurai Shodown V Special', 'Schwarzerblitz',\n",
       "       'Sekiro: Shadows Die Twice', 'Shovel Knight Showdown',\n",
       "       'Shrek SuperSlam', 'Skullgirls', 'Skullgirls 2nd Encore',\n",
       "       'Skullgirls Encore', 'Slap City', 'SLAYERS FOR HIRE',\n",
       "       'Smash Remix', 'SNK Heroines: Tag Team Frenzy', 'Soul Calibur II',\n",
       "       'Soul Calibur II HD Online', 'Soul Calibur IV', 'Soul Calibur V',\n",
       "       'Soul Calibur VI', 'Stick Fight the Game', 'Street Fighter 6',\n",
       "       'Street Fighter Alpha 2', 'Street Fighter Alpha 3',\n",
       "       'Street Fighter EX2 Plus', 'Street Fighter III: 3rd Strike',\n",
       "       'Street Fighter IV', 'Street Fighter V',\n",
       "       'Street Fighter V: Arcade Edition',\n",
       "       'Street Fighter V: Champion Edition', 'Street Fighter X Tekken',\n",
       "       'Super Smash Bros.', 'Super Smash Bros. Brawl',\n",
       "       'Super Smash Bros. for Wii U', 'Super Smash Bros. Melee',\n",
       "       'Super Smash Bros. Ultimate', 'Super Street Fighter II Turbo',\n",
       "       'Super Street Fighter II Turbo HD Remix',\n",
       "       'Super Street Fighter IV',\n",
       "       'Super Street Fighter IV Arcade Edition',\n",
       "       'Tatsunoko vs. Capcom: Ultimate All-Stars',\n",
       "       'Teenage Mutant Ninja Turtles: Tournament Fighters', 'Tekken 4',\n",
       "       'Tekken 5', 'Tekken 5: Dark Resurrection', 'Tekken 6', 'Tekken 7',\n",
       "       'Tekken Tag Tournament', 'Tekken Tag Tournament 2',\n",
       "       'The Last Blade 2', 'The Unspoken', \"Them's Fightin' Herds\",\n",
       "       'Toribash', 'Tough Love Arena',\n",
       "       'Touhou Hisoutensoku ~ Choudokyuu Ginyoru no Nazo o Oe',\n",
       "       'TowerFall: Ascension', 'Ultimate Marvel vs. Capcom 3',\n",
       "       'Ultimate Mortal Kombat 3', 'Ultra Fight Da! Kyanta 2',\n",
       "       'Ultra Street Fighter IV', 'Umineko: Golden Fantasia',\n",
       "       'Under Night In-Birth EXE: Late',\n",
       "       'Under Night In-Birth EXE: Late[st]',\n",
       "       'Under Night In-Birth Exe:Late[cl-r]', 'Vampire Savior',\n",
       "       'Virtua Fighter 4: Evolution', 'Virtua Fighter 5',\n",
       "       'Virtua Fighter 5 Final Showdown',\n",
       "       'Virtua Fighter 5: Ultimate Showdown', 'Windjammers 2', 'WWE 2K20',\n",
       "       'Asphalt 4', 'Asphalt 9: Legends', 'Assetto Corsa',\n",
       "       'Assetto Corsa Competizione', 'Dirt Rally 2.0',\n",
       "       'Epic Roller Coasters VR', 'F1 2018', 'F1 2019', 'F1 2020',\n",
       "       'F1 2021', 'F1 22', 'Forza Horizon 5', 'Forza Motorsport 2',\n",
       "       'Forza Motorsport 3', 'Forza Motorsport 4', 'Forza Motorsport 6',\n",
       "       'Forza Motorsport 7', 'Gran Turismo 3: A-Spec', 'Gran Turismo 4',\n",
       "       'Gran Turismo Sport', 'GRID (2019)', 'Hot Lap League',\n",
       "       'iRacing.com', 'Jak 3', 'Jak and Daxter: The Precursur Legacy',\n",
       "       'Jak II', 'KartRider', 'Live for Speed', 'Mad Skills Motocross 2',\n",
       "       'Marbles on Stream', 'Mario Kart 8 Deluxe', 'NASCAR Heat 4',\n",
       "       'Nascar Heat 5', 'NASCAR Thunder 2002', 'NASCAR Thunder 2003',\n",
       "       'Need for Speed Carbon', 'Need for Speed: Most Wanted',\n",
       "       'Need for Speed: ProStreet', 'Need for Speed: Shift',\n",
       "       'Need for Speed: Underground', 'Need for Speed: Underground 2',\n",
       "       'Project Cars', 'Project Cars 2', 'Project Gotham Racing 2',\n",
       "       'Project Gotham Racing 3', 'Project Gotham Racing 4',\n",
       "       'RaceRoom Racing Experience', 'Rennsport', 'rFactor', 'rFactor 2',\n",
       "       'Speedrunners', 'Sprint Vector', 'Trackmania (2020)',\n",
       "       'TrackMania 2: Canyon', 'TrackMania 2: Stadium',\n",
       "       'Trackmania 2: Valley', 'TrackMania Nations',\n",
       "       'TrackMania Nations Forever', 'Trackmania Turbo',\n",
       "       'Trackmania United', 'Trackmania United Forever', 'Trials Fusion',\n",
       "       'Turbo Racing League', 'Void Racer',\n",
       "       'WRC 10 FIA World Rally Championship', 'Carom 3D',\n",
       "       'Dream league Soccer', 'EA Sports FC Online', 'Echo Arena',\n",
       "       'eFootball', 'Eleven Table Tennis', 'FIFA 03', 'FIFA 04',\n",
       "       'FIFA 05', 'FIFA 06', 'FIFA 07', 'FIFA 08', 'FIFA 09', 'FIFA 10',\n",
       "       'FIFA 11', 'FIFA 12', 'FIFA 13', 'FIFA 14', 'FIFA 15', 'FIFA 16',\n",
       "       'FIFA 17', 'FIFA 18', 'FIFA 19', 'FIFA 20', 'FIFA 2000',\n",
       "       'FIFA 2001', 'FIFA 2002 World Cup', 'FIFA 21', 'FIFA 22',\n",
       "       'FIFA 23', 'FIFA Online 3', 'FIFA Online 4', 'GOLF Plus',\n",
       "       'Golf With Your Friends', 'Gran Turismo 7', 'Groove Gunner',\n",
       "       'Gym Masters VR', 'Just Hoops', 'Madden NFL 19', 'Madden NFL 20',\n",
       "       'Madden NFL 2004', 'Madden NFL 2006', 'Madden NFL 2007',\n",
       "       'Madden NFL 2008', 'Madden NFL 2009', 'Madden NFL 2013',\n",
       "       'Madden NFL 2016', 'Madden NFL 2017', 'Madden NFL 2018',\n",
       "       'Madden NFL 21', 'Madden NFL 22', 'Madden NFL 23', 'Madden NFL 24',\n",
       "       'Mario Tennis Aces', 'NBA 2K Online', 'NBA 2K Online 2',\n",
       "       'NBA 2K18', 'NBA 2K19', 'NBA 2K20', 'NBA 2K21', 'NBA 2K22',\n",
       "       'NBA 2K23', \"NHL '94\", 'NHL 12', 'NHL 13', 'NHL 14', 'NHL 15',\n",
       "       'NHL 17', 'NHL 18', 'NHL 19', 'NHL 23', 'Nock',\n",
       "       'Pro Evolution Soccer 2008', 'Pro Evolution Soccer 2009',\n",
       "       'Pro Evolution Soccer 2013', 'Pro Evolution Soccer 2014',\n",
       "       'Pro Evolution Soccer 2015', 'Pro Evolution Soccer 2016',\n",
       "       'Pro Evolution Soccer 2017', 'Pro Evolution Soccer 2018',\n",
       "       'Pro Evolution Soccer 2019', 'Pro Evolution Soccer 3',\n",
       "       'Pro Evolution Soccer 4', 'Pro Evolution Soccer 5',\n",
       "       'Pro Evolution Soccer 6', 'Racket: NX', 'Ragnaröck',\n",
       "       'Rezzil Player', 'Rocket League', 'Rocket League Sideswipe',\n",
       "       'Roller Champions', 'Slapshot Rebound', 'Soccer Stars',\n",
       "       'SuperPlayer', 'Synth Riders', 'Walkabout Mini Golf', 'Zwift',\n",
       "       'Artifact Classic', 'Artifact Foundry', 'Faeria', 'Gwent',\n",
       "       'Hand of the Gods', 'Hearthstone', 'Hearthstone Battlegrounds',\n",
       "       'KARDS, The World War II Card Game', 'Legends of Runeterra',\n",
       "       'Magic: The Gathering Arena', 'Magic: The Gathering Online',\n",
       "       'Mythgard', 'Pokémon TCG', 'Shadowverse', 'Shardbound',\n",
       "       'The Elder Scrolls: Legends', 'Yu-Gi-Oh! Duel Links', 'Catherine',\n",
       "       'Catherine: Full Body', 'Cultris II', 'Jstris', 'Magical Drop III',\n",
       "       'Microsoft Excel', 'Pac-man', 'Panel Attack',\n",
       "       'Puyo Puyo Champions', 'Puyo Puyo Tetris', 'Puyo Puyo Tetris 2',\n",
       "       'Tetr.io', 'Tetris', 'Tetris Effect: Connected', 'Tetris Ultimate',\n",
       "       'Twinkle Star Sprites', 'Wise Star 2', 'Apex Legends',\n",
       "       'Apex Legends Mobile', 'Ark: Survival Of The Fittest', 'Fall Guys',\n",
       "       'Farlight 84', 'Fortnite', 'Free Fire', 'H1Z1', 'Penguin Paradise',\n",
       "       \"PLAYERUNKNOWN'S BATTLEGROUNDS Mobile\",\n",
       "       'PLAYERUNKNOWN’S BATTLEGROUNDS', 'Radical Heights',\n",
       "       'Ring of Elysium', 'Rocket Arena', 'Rules Of Survival',\n",
       "       'Spellbreak', 'Super People', 'Gears 5', 'Gears of War',\n",
       "       'Gears of War 2', 'Gears of War 3', 'Gears of War 4',\n",
       "       'Gears of War: Ultimate Edition', 'Knockout City',\n",
       "       'Mobile Suit Gundam: Extreme Vs Maxi Boost ON', 'Rogue Company',\n",
       "       'The Division 2', 'Audio Trip', 'Beat Saber', 'Guitar Hero 5',\n",
       "       'Guitar Hero III: Legends of Rock', 'Guitar Hero: World Tour',\n",
       "       'Just Dance 2014', 'osu!'], dtype=object)"
      ]
     },
     "execution_count": 13,
     "metadata": {},
     "output_type": "execute_result"
    }
   ],
   "source": [
    "# check multiple variables\n",
    "df_games_clean['Game'].unique()"
   ]
  },
  {
   "cell_type": "markdown",
   "metadata": {},
   "source": [
    "Tidiness Issue2 - Multiple variables: The value name includes two variables. We can remove it since we already have `ReleaseDate`. We need to confirm whether it is the Game name or just the multiple variables. Include 'Doom (2016)', 'Killer Instinct (2013)', 'Samurai Shodown (2019)'."
   ]
  },
  {
   "cell_type": "markdown",
   "metadata": {},
   "source": [
    "### Earnings Dataframe"
   ]
  },
  {
   "cell_type": "code",
   "execution_count": 14,
   "metadata": {},
   "outputs": [
    {
     "data": {
      "text/html": [
       "<div>\n",
       "<style scoped>\n",
       "    .dataframe tbody tr th:only-of-type {\n",
       "        vertical-align: middle;\n",
       "    }\n",
       "\n",
       "    .dataframe tbody tr th {\n",
       "        vertical-align: top;\n",
       "    }\n",
       "\n",
       "    .dataframe thead th {\n",
       "        text-align: right;\n",
       "    }\n",
       "</style>\n",
       "<table border=\"1\" class=\"dataframe\">\n",
       "  <thead>\n",
       "    <tr style=\"text-align: right;\">\n",
       "      <th></th>\n",
       "      <th>Date</th>\n",
       "      <th>Game</th>\n",
       "      <th>Earnings</th>\n",
       "      <th>Players</th>\n",
       "      <th>Tournaments</th>\n",
       "    </tr>\n",
       "  </thead>\n",
       "  <tbody>\n",
       "    <tr>\n",
       "      <th>0</th>\n",
       "      <td>1998-01-01</td>\n",
       "      <td>Command &amp; Conquer: Red Alert</td>\n",
       "      <td>15000.0</td>\n",
       "      <td>8</td>\n",
       "      <td>1</td>\n",
       "    </tr>\n",
       "    <tr>\n",
       "      <th>1</th>\n",
       "      <td>1998-01-01</td>\n",
       "      <td>QuakeWorld</td>\n",
       "      <td>15000.0</td>\n",
       "      <td>8</td>\n",
       "      <td>1</td>\n",
       "    </tr>\n",
       "  </tbody>\n",
       "</table>\n",
       "</div>"
      ],
      "text/plain": [
       "         Date                          Game  Earnings  Players  Tournaments\n",
       "0  1998-01-01  Command & Conquer: Red Alert   15000.0        8            1\n",
       "1  1998-01-01                    QuakeWorld   15000.0        8            1"
      ]
     },
     "execution_count": 14,
     "metadata": {},
     "output_type": "execute_result"
    }
   ],
   "source": [
    "#Inspecting the dataframe visually\n",
    "df_earnings_clean.head(2)"
   ]
  },
  {
   "cell_type": "code",
   "execution_count": 15,
   "metadata": {},
   "outputs": [
    {
     "name": "stdout",
     "output_type": "stream",
     "text": [
      "<class 'pandas.core.frame.DataFrame'>\n",
      "RangeIndex: 9244 entries, 0 to 9243\n",
      "Data columns (total 5 columns):\n",
      " #   Column       Non-Null Count  Dtype  \n",
      "---  ------       --------------  -----  \n",
      " 0   Date         9244 non-null   object \n",
      " 1   Game         9244 non-null   object \n",
      " 2   Earnings     9244 non-null   float64\n",
      " 3   Players      9244 non-null   int64  \n",
      " 4   Tournaments  9244 non-null   int64  \n",
      "dtypes: float64(1), int64(2), object(2)\n",
      "memory usage: 361.2+ KB\n"
     ]
    }
   ],
   "source": [
    "df_earnings_clean.info()"
   ]
  },
  {
   "cell_type": "markdown",
   "metadata": {},
   "source": [
    "Quality Issue3 - Accuracy: The `Date` is in object, but it should be date-time type."
   ]
  },
  {
   "cell_type": "code",
   "execution_count": 16,
   "metadata": {},
   "outputs": [
    {
     "data": {
      "text/html": [
       "<div>\n",
       "<style scoped>\n",
       "    .dataframe tbody tr th:only-of-type {\n",
       "        vertical-align: middle;\n",
       "    }\n",
       "\n",
       "    .dataframe tbody tr th {\n",
       "        vertical-align: top;\n",
       "    }\n",
       "\n",
       "    .dataframe thead th {\n",
       "        text-align: right;\n",
       "    }\n",
       "</style>\n",
       "<table border=\"1\" class=\"dataframe\">\n",
       "  <thead>\n",
       "    <tr style=\"text-align: right;\">\n",
       "      <th></th>\n",
       "      <th>Earnings</th>\n",
       "      <th>Players</th>\n",
       "      <th>Tournaments</th>\n",
       "    </tr>\n",
       "  </thead>\n",
       "  <tbody>\n",
       "    <tr>\n",
       "      <th>count</th>\n",
       "      <td>9.244000e+03</td>\n",
       "      <td>9244.000000</td>\n",
       "      <td>9244.000000</td>\n",
       "    </tr>\n",
       "    <tr>\n",
       "      <th>mean</th>\n",
       "      <td>1.796551e+05</td>\n",
       "      <td>59.721874</td>\n",
       "      <td>6.633600</td>\n",
       "    </tr>\n",
       "    <tr>\n",
       "      <th>std</th>\n",
       "      <td>1.017222e+06</td>\n",
       "      <td>130.098551</td>\n",
       "      <td>12.098553</td>\n",
       "    </tr>\n",
       "    <tr>\n",
       "      <th>min</th>\n",
       "      <td>0.000000e+00</td>\n",
       "      <td>0.000000</td>\n",
       "      <td>1.000000</td>\n",
       "    </tr>\n",
       "    <tr>\n",
       "      <th>25%</th>\n",
       "      <td>1.075000e+03</td>\n",
       "      <td>6.000000</td>\n",
       "      <td>1.000000</td>\n",
       "    </tr>\n",
       "    <tr>\n",
       "      <th>50%</th>\n",
       "      <td>1.026800e+04</td>\n",
       "      <td>16.000000</td>\n",
       "      <td>2.000000</td>\n",
       "    </tr>\n",
       "    <tr>\n",
       "      <th>75%</th>\n",
       "      <td>7.150557e+04</td>\n",
       "      <td>51.000000</td>\n",
       "      <td>6.000000</td>\n",
       "    </tr>\n",
       "    <tr>\n",
       "      <th>max</th>\n",
       "      <td>4.013865e+07</td>\n",
       "      <td>1719.000000</td>\n",
       "      <td>172.000000</td>\n",
       "    </tr>\n",
       "  </tbody>\n",
       "</table>\n",
       "</div>"
      ],
      "text/plain": [
       "           Earnings      Players  Tournaments\n",
       "count  9.244000e+03  9244.000000  9244.000000\n",
       "mean   1.796551e+05    59.721874     6.633600\n",
       "std    1.017222e+06   130.098551    12.098553\n",
       "min    0.000000e+00     0.000000     1.000000\n",
       "25%    1.075000e+03     6.000000     1.000000\n",
       "50%    1.026800e+04    16.000000     2.000000\n",
       "75%    7.150557e+04    51.000000     6.000000\n",
       "max    4.013865e+07  1719.000000   172.000000"
      ]
     },
     "execution_count": 16,
     "metadata": {},
     "output_type": "execute_result"
    }
   ],
   "source": [
    "df_earnings_clean.describe()"
   ]
  },
  {
   "cell_type": "markdown",
   "metadata": {},
   "source": [
    "Quality Issue4 - Accuracy: `Earnings` have a 0 value, we need to filter out."
   ]
  },
  {
   "cell_type": "code",
   "execution_count": 17,
   "metadata": {},
   "outputs": [
    {
     "data": {
      "text/plain": [
       "Date           0\n",
       "Game           0\n",
       "Earnings       0\n",
       "Players        0\n",
       "Tournaments    0\n",
       "dtype: int64"
      ]
     },
     "execution_count": 17,
     "metadata": {},
     "output_type": "execute_result"
    }
   ],
   "source": [
    "#FILL IN - Inspecting the dataframe programmatically\n",
    "# check missing value\n",
    "df_earnings_clean.isnull().sum()"
   ]
  },
  {
   "cell_type": "code",
   "execution_count": 18,
   "metadata": {},
   "outputs": [
    {
     "data": {
      "text/plain": [
       "0"
      ]
     },
     "execution_count": 18,
     "metadata": {},
     "output_type": "execute_result"
    }
   ],
   "source": [
    "# check duplicate value\n",
    "sum(df_earnings_clean.duplicated())"
   ]
  },
  {
   "cell_type": "code",
   "execution_count": 19,
   "metadata": {},
   "outputs": [
    {
     "data": {
      "text/plain": [
       "4343     85600.00\n",
       "4369      1500.00\n",
       "7109      3000.00\n",
       "3695    170465.17\n",
       "Name: Earnings, dtype: float64"
      ]
     },
     "execution_count": 19,
     "metadata": {},
     "output_type": "execute_result"
    }
   ],
   "source": [
    "# check the value should be integer or float\n",
    "df_earnings['Earnings'].sample(4)"
   ]
  },
  {
   "cell_type": "code",
   "execution_count": 20,
   "metadata": {},
   "outputs": [
    {
     "data": {
      "text/plain": [
       "Super Smash Bros. Melee          213\n",
       "Age of Empires II                204\n",
       "WarCraft III                     203\n",
       "StarCraft: Brood War             179\n",
       "StarCraft II                     165\n",
       "                                ... \n",
       "Sprint Vector                      1\n",
       "SNK Heroines: Tag Team Frenzy      1\n",
       "F1 2018                            1\n",
       "Creative Destruction               1\n",
       "EA Sports FC Online                1\n",
       "Name: Game, Length: 597, dtype: int64"
      ]
     },
     "execution_count": 20,
     "metadata": {},
     "output_type": "execute_result"
    }
   ],
   "source": [
    "df_earnings_clean['Game'].value_counts()"
   ]
  },
  {
   "cell_type": "code",
   "execution_count": 21,
   "metadata": {},
   "outputs": [
    {
     "data": {
      "text/plain": [
       "array(['Command & Conquer: Red Alert', 'QuakeWorld', 'Quake II',\n",
       "       'Total Annihilation', 'StarCraft: Brood War', 'Age of Empires',\n",
       "       'Descent 3', 'Quake III Arena', 'Age of Empires II',\n",
       "       'Marvel vs. Capcom 2', 'Street Fighter Alpha 2',\n",
       "       'Street Fighter Alpha 3', 'Street Fighter III: 3rd Strike',\n",
       "       'Super Street Fighter II Turbo', 'FIFA 2000',\n",
       "       'Doom II: Hell on Earth', 'Counter-Strike', 'Capcom vs. SNK',\n",
       "       'FIFA 2001', 'Unreal Tournament', 'Aliens versus Predator 2',\n",
       "       'Super Smash Bros. Melee', 'Return to Castle Wolfenstein',\n",
       "       'Capcom vs. SNK 2', 'WarCraft III', 'FIFA 2002 World Cup',\n",
       "       'Halo: Combat Evolved', 'Unreal Tournament 2003',\n",
       "       'NASCAR Thunder 2002', 'Star Wars Jedi Knight II: Jedi Outcast',\n",
       "       'Tekken 4', 'Age of Mythology', 'NASCAR Thunder 2003', 'FIFA 03',\n",
       "       'Guilty Gear XX', 'Soul Calibur II', 'Tekken Tag Tournament',\n",
       "       'Virtua Fighter 4: Evolution', 'Day of Defeat',\n",
       "       'Gran Turismo 3: A-Spec', 'Madden NFL 2004', 'Live for Speed',\n",
       "       'FIFA 04', 'Counter-Strike: Condition Zero',\n",
       "       'Pro Evolution Soccer 3', 'Unreal Tournament 2004', 'Painkiller',\n",
       "       'Doom 3', 'Call of Duty', 'Need for Speed: Underground',\n",
       "       'Project Gotham Racing 2', 'FIFA 05', 'Halo 2',\n",
       "       'Counter-Strike: Source', 'Need for Speed: Underground 2',\n",
       "       'Pro Evolution Soccer 4', 'Gran Turismo 4',\n",
       "       'Wolfenstein: Enemy Territory', 'Quake 4', 'Battlefield 2',\n",
       "       'Guilty Gear XX #Reload', 'Tekken 5',\n",
       "       'Warhammer 40,000: Dawn of War', 'Dead or Alive Ultimate',\n",
       "       'Defense of the Ancients', 'FIFA 06',\n",
       "       'Need for Speed: Most Wanted', 'Madden NFL 2006',\n",
       "       'TrackMania Nations', 'Call of Duty 2', 'Age of Empires III',\n",
       "       'Pro Evolution Soccer 5', 'Dead or Alive 4', 'Forza Motorsport 2',\n",
       "       'Project Gotham Racing 3', 'Ghost Recon Advanced Warfighter',\n",
       "       'Guilty Gear XX Slash', 'Hyper Street Fighter II', 'FIFA 07',\n",
       "       'Madden NFL 2007', 'Rise of Nations: Rise of Legends',\n",
       "       'Need for Speed Carbon', 'World of WarCraft', 'Battlefield 2142',\n",
       "       'Rainbow Six: Vegas', 'Command & Conquer 3',\n",
       "       'S.T.A.L.K.E.R.: Shadow of Chernobyl', 'Supreme Commander',\n",
       "       'Day of Defeat: Source', 'F.E.A.R.', 'World in Conflict',\n",
       "       'Pro Evolution Soccer 6', 'Super Smash Bros.', 'Gears of War',\n",
       "       'Enemy Territory: Quake Wars', 'Guilty Gear XX Accent Core',\n",
       "       'Tekken 5: Dark Resurrection', 'Virtua Fighter 5', 'Shadowrun',\n",
       "       'Madden NFL 2008', 'Carom 3D', 'Crysis',\n",
       "       'Call of Duty 4: Modern Warfare', 'Team Fortress 2', 'FIFA 08',\n",
       "       'Trackmania United', 'Halo 3', 'Unreal Tournament 3',\n",
       "       'Need for Speed: ProStreet', 'Project Gotham Racing 4',\n",
       "       'Pro Evolution Soccer 2008', 'Supreme Commander: Forged Alliance',\n",
       "       'TrackMania Nations Forever', 'Super Smash Bros. Brawl',\n",
       "       'Guitar Hero III: Legends of Rock', 'Rainbow Six: Vegas 2',\n",
       "       'Quake Live', 'Madden NFL 2009', 'Red Stone', 'Asphalt 4',\n",
       "       'FIFA 09', 'Resistance 2', 'Gears of War 2', 'King of Fighters XI',\n",
       "       'Street Fighter IV', 'Super Street Fighter II Turbo HD Remix',\n",
       "       'Guilty Gear XX Accent Core Plus', 'Pro Evolution Soccer 2009',\n",
       "       'BlazBlue: Calamity Trigger', 'Magic: The Gathering Online',\n",
       "       'Wise Star 2', 'Call of Duty: Modern Warfare 2', 'Special Force',\n",
       "       'FIFA 10', 'StarCraft II',\n",
       "       'Tatsunoko vs. Capcom: Ultimate All-Stars', 'Tekken 6',\n",
       "       'Heroes of Newerth', 'KartRider', 'Super Street Fighter IV',\n",
       "       'Guitar Hero 5', 'Need for Speed: Shift',\n",
       "       'Melty Blood: Actress Again', 'League of Legends', 'FIFA 11',\n",
       "       'Multigaming', 'iRacing.com', 'Forza Motorsport 3', 'rFactor',\n",
       "       'CrossFire', 'Halo: Reach', 'Call of Duty: Black Ops',\n",
       "       'Mortal Kombat vs. DC Universe', 'Ultimate Mortal Kombat 3',\n",
       "       'Point Blank', 'Mortal Kombat 9', 'Marvel vs. Capcom 3',\n",
       "       'Super Street Fighter IV Arcade Edition', 'Bloodline Champions',\n",
       "       'BlazBlue: Continuum Shift II', 'TrackMania 2: Canyon',\n",
       "       'Arcana Heart 3', 'Soul Calibur IV', 'Project M',\n",
       "       'Age of Empires Online', 'Dota 2',\n",
       "       'Call of Duty: Modern Warfare 3', 'FIFA 12',\n",
       "       'Ultimate Marvel vs. Capcom 3', 'World of Tanks', 'Chess.com',\n",
       "       'NHL 12', 'Tekken Tag Tournament 2', 'Forza Motorsport 4',\n",
       "       'Soul Calibur V', 'King of Fighters XIII',\n",
       "       'Street Fighter X Tekken', 'Battlefield 3', 'Gears of War 3',\n",
       "       'Counter-Strike: Global Offensive', 'Counter-Strike Online',\n",
       "       'Pokémon VGC', 'Persona 4 Arena', 'FIFA 13',\n",
       "       'Call of Duty: Black Ops 2', 'Dead or Alive 5', 'Halo 4',\n",
       "       'ShootMania Storm', 'Madden NFL 2013', 'NHL 13',\n",
       "       'TrackMania 2: Stadium', 'Injustice: Gods Among Us',\n",
       "       'Turbo Racing League', 'BlazBlue: Continuum Shift Extend',\n",
       "       'Divekick', 'Skullgirls', 'SMITE', 'S.K.I.L.L. - Special Force 2',\n",
       "       'Dragon Ball Z: Budokai 3', 'FIFA 14', 'Dead or Alive 5 Ultimate',\n",
       "       'Trackmania 2: Valley', 'Hearthstone', 'Call of Duty: Ghosts',\n",
       "       'Battlefield 4', 'Killer Instinct (2013)', 'NHL 14',\n",
       "       'BlazBlue: Chronophantasma', 'Guilty Gear XX Accent Core Plus R',\n",
       "       'Attack on Titan Tribute Game', 'FIFA Online 3',\n",
       "       'Skullgirls Encore', 'Soul Calibur II HD Online',\n",
       "       'Ultra Street Fighter IV', 'Virtua Fighter 5 Final Showdown',\n",
       "       'Pro Evolution Soccer 2014', 'Halo 2 Anniversary',\n",
       "       'Under Night In-Birth EXE: Late', 'FIFA 15', 'rFactor 2',\n",
       "       'Xonotic', 'Super Smash Bros. for Wii U',\n",
       "       'Persona 4 Arena Ultimax', 'Call of Duty: Advanced Warfare',\n",
       "       'Guild Wars 2', 'Heroes of the Storm', 'Just Dance 2014',\n",
       "       'Guilty Gear Xrd -SIGN-', 'Dead or Alive 5: Last Round', 'NHL 15',\n",
       "       'Evolve', 'Mortal Kombat X', 'Battlefield Hardline',\n",
       "       'Legend of Glory', 'Reflex', 'Pro Evolution Soccer 2015',\n",
       "       'BlazBlue: Chronophantasma Extend', 'Tekken 7', 'Brawlhalla',\n",
       "       'Vainglory', 'Halo 5: Guardians', 'Rocket League', 'Splatoon',\n",
       "       'H1Z1', \"NHL '94\", 'Grey Goo', 'FIFA 16', 'Shards of War',\n",
       "       'Rising Thunder', 'Tetris', 'Project Cars',\n",
       "       'Nitroplus Blasterz: Heroines Infinite Duel',\n",
       "       'Dengeki Bunko: Fighting Climax', 'Blade & Soul',\n",
       "       'Call of Duty: Black Ops III', 'Overwatch',\n",
       "       'Unreal Tournament (2016)', 'osu!',\n",
       "       'Gears of War: Ultimate Edition', 'Metal Gear Online',\n",
       "       'Rainbow Six Siege', 'Street Fighter V', 'Old School Runescape',\n",
       "       'Pokkén Tournament', 'Clash Royale',\n",
       "       'Naruto Shippuden: Ultimate Ninja Storm 4', 'Trackmania Turbo',\n",
       "       'Rivals of Aether', 'Guilty Gear Xrd -REVELATOR-',\n",
       "       'Pro Evolution Soccer 2016', 'Vampire Savior',\n",
       "       'King of Fighters 2002 Unlimited Match',\n",
       "       'Dengeki Bunko: Fighting Climax Ignition', 'Paladins',\n",
       "       'Madden NFL 2016', 'Mortal Kombat XL', 'Arena of Valor',\n",
       "       \"Uncharted 4: A Thief's End\", 'King of Fighters XIV', 'Battlerite',\n",
       "       'CrossFire Mobile', 'Gears of War 4', 'FIFA 17',\n",
       "       'BlazBlue: Central Fiction', 'Pro Evolution Soccer 2017',\n",
       "       'Skullgirls 2nd Encore', 'Melty Blood: Actress Again Current Code',\n",
       "       'Catherine', 'Koihime Enbu', 'Arcana Heart 3: LOVE MAX!!!!!',\n",
       "       'Aquapazza: Aquaplus Dream Match', 'Forza Motorsport 6',\n",
       "       'MechWarrior Online', 'Call of Duty: Infinite Warfare',\n",
       "       'Madden NFL 2017', 'MOBA Legends', 'Mad Skills Motocross 2',\n",
       "       'ComPet', 'Mystery Game Tournament', 'Tetris Ultimate',\n",
       "       'Critical Ops', 'Yu-Gi-Oh! Duel Links', 'Gwent', 'Injustice 2',\n",
       "       'Guilty Gear Xrd REV 2', 'Quake Champions', 'Heavy Metal Machines',\n",
       "       'Hand of the Gods', 'Company of Heroes 2', 'ARMS',\n",
       "       'PLAYERUNKNOWN’S BATTLEGROUNDS', 'Doom (2016)', 'Rage',\n",
       "       'The Elder Scrolls: Legends', 'Under Night In-Birth EXE: Late[st]',\n",
       "       'Splatoon 2', 'Mobile Legends: Bang Bang', 'StarCraft: Remastered',\n",
       "       'Marvel vs. Capcom: Infinite', 'Pokkén Tournament DX',\n",
       "       'Gundam Versus', 'Puyo Puyo Tetris',\n",
       "       'Chaos Code: New Sign of Catastrophe', 'Echo Arena',\n",
       "       'Clash of Clans', 'Windjammers', 'Summoners War: Sky Arena',\n",
       "       'Call of Duty: WWII', 'World of Tanks Blitz', 'FIFA 18',\n",
       "       'Madden NFL 2018', 'The Unspoken', 'Shadowverse',\n",
       "       'Power Rangers: Legacy Wars', 'Street Fighter V: Arcade Edition',\n",
       "       'Lichess', 'Arcana Heart 3: Love Max Six Stars!!!!!', 'Fortnite',\n",
       "       'NHL 18', 'Faeria', 'Dragon Ball FighterZ',\n",
       "       'BlazBlue: Cross Tag Battle', 'Warsow', 'Zula', 'Project Cars 2',\n",
       "       'Battalion 1944', 'Radical Heights', 'NBA 2K18',\n",
       "       'RaceRoom Racing Experience', 'Sailor Moon S',\n",
       "       'Garou: Mark of the Wolves', 'Samurai Shodown V Special',\n",
       "       'Forza Motorsport 7', 'Warface', 'Pro Evolution Soccer 2018',\n",
       "       'Realm Royale', 'Guns of Boom', 'Archangel Hellfire', 'Onward',\n",
       "       'FIFA Online 4', 'Sprint Vector', 'Gran Turismo Sport',\n",
       "       'Fighting EX Layer', 'Soul Calibur VI',\n",
       "       'SNK Heroines: Tag Team Frenzy', 'Call of Duty: Black Ops 4',\n",
       "       'Call of Duty: Blackout', \"PLAYERUNKNOWN'S BATTLEGROUNDS Mobile\",\n",
       "       'FIFA 19', 'Assetto Corsa', 'NHL 19', 'Black Squad',\n",
       "       'Street Fighter EX2 Plus', 'Artifact Classic', 'F1 2018',\n",
       "       'Creative Destruction', 'Super Smash Bros. Ultimate',\n",
       "       'Madden NFL 19', 'Magic: The Gathering Arena', 'Minecraft',\n",
       "       'Mario Kart 8 Deluxe', 'Super Mario Party', 'Lethal League Blaze',\n",
       "       'Free Fire', 'Mario Tennis Aces', 'NBA 2K19', 'Apex Legends',\n",
       "       'Stardew Valley', 'Brawl Stars', 'Dead or Alive 6', 'Auto Chess',\n",
       "       'Million Arthur: Arcana Blood', 'The Division 2',\n",
       "       'Sekiro: Shadows Die Twice', 'Mortal Kombat 11',\n",
       "       'Splitgate: Arena Warfare', 'Space Junkies', 'Puyo Puyo Champions',\n",
       "       'Warparty', 'King of Fighters 98',\n",
       "       'Teenage Mutant Ninja Turtles: Tournament Fighters',\n",
       "       'Pro Evolution Soccer 2019', 'Echo Combat', 'Mordhau',\n",
       "       'Samurai Shodown (2019)', 'Dota Underlords', 'Teamfight Tactics',\n",
       "       'Power Rangers: Battle for the Grid', 'Ring of Elysium', 'Gears 5',\n",
       "       'Sea of Thieves', 'Farming Simulator 19',\n",
       "       'Virtua Fighter 5: Ultimate Showdown', 'Asphalt 9: Legends',\n",
       "       'FIFA 20', 'Kill la Kill the Game: IF', 'Ultra Fight Da! Kyanta 2',\n",
       "       \"Fighter's History Dynamite\", 'Catherine: Full Body',\n",
       "       'Project Justice', 'Hokuto no Ken', 'Umineko: Golden Fantasia',\n",
       "       'Guilty Gear', 'Borderlands 3', 'Acceleration of SUGURI 2',\n",
       "       \"Them's Fightin' Herds\", 'Big Buck Hunter Arcade', 'WWE 2K20',\n",
       "       'Dead By Daylight', 'Call of Duty: Modern Warfare',\n",
       "       'Hearthstone Battlegrounds', 'Madden NFL 20', 'F1 2019', 'TEPPEN',\n",
       "       'GRID (2019)', 'Shovel Knight Showdown', 'UNO', 'Dirt Rally 2.0',\n",
       "       'Fantasy Strike', 'WarCraft III: Reforged',\n",
       "       'Touhou Hisoutensoku ~ Choudokyuu Ginyoru no Nazo o Oe',\n",
       "       'NBA 2K20', 'Street Fighter V: Champion Edition',\n",
       "       'Under Night In-Birth Exe:Late[cl-r]', 'Magical Drop III',\n",
       "       'Call of Duty: Warzone', 'Legends of Runeterra', 'Diabotical',\n",
       "       'Granblue Fantasy: Versus', 'VALORANT', 'Escape from Tarkov',\n",
       "       'chess24', 'Pistol Whip', 'Pokémon GO',\n",
       "       'Assetto Corsa Competizione', 'Tetr.io', 'Playchess.com',\n",
       "       'Prophecy', 'Beat Aim', 'Internet Chess Club', 'SLAYERS FOR HIRE',\n",
       "       'Punch Planet', 'Slap City', 'Duck Game', 'Maiden & Spell',\n",
       "       'Naruto: Gekitou Ninja Taisen! 4', 'Def Jam: Fight for NY',\n",
       "       'Schwarzerblitz', 'Twinkle Star Sprites', 'Digimon Rumble Arena',\n",
       "       'Pocket Rumble', 'Fight of Animals', 'HYPERFIGHT',\n",
       "       \"JoJo's Bizarre Adventure: Heritage for the Future\",\n",
       "       'Power Instinct: Matrimelee', 'Roof Rage', 'Shrek SuperSlam',\n",
       "       'Speedrunners', 'Panel Attack', 'Samurai Shodown III',\n",
       "       'Akatsuki Blitzkampf', 'Project Plus', 'The Last Blade 2',\n",
       "       'Asuka 120% LimitOver BURNING Fest.', 'Eternal Fighter Zero',\n",
       "       'Hyper Scape', 'NASCAR Heat 4', 'Rocket Arena',\n",
       "       'Trackmania (2020)', 'Tower Tag', 'Artifact Foundry', 'eFootball',\n",
       "       'Fall Guys', 'Beat Saber', 'Jstris', 'Cultris II',\n",
       "       'Breakers Revenge', 'GOLF Plus', 'Synth Riders', 'Audio Trip',\n",
       "       'Rushdown Revolt', 'Spellbreak', 'Among Us', 'Identity V',\n",
       "       'F1 2020', 'NBA 2K21', 'Call of Duty: Black Ops Cold War',\n",
       "       'Smash Remix', 'Kirby Fighters 2', 'Aim Gods', 'FIFA 21',\n",
       "       'Rogue Company', 'Zwift', 'Nascar Heat 5', 'Star Wars: Squadrons',\n",
       "       'Call of Duty: Mobile', 'Microsoft Excel', 'Madden NFL 21',\n",
       "       'League of Legends: Wild Rift', 'Void Racer',\n",
       "       'Mighty Fight Federation',\n",
       "       'Mobile Suit Gundam: Extreme Vs Maxi Boost ON', 'Red Earth',\n",
       "       'Toribash', 'Tough Love Arena', 'Guilty Gear -STRIVE-', 'Mythgard',\n",
       "       'Ninja Legends', 'Walkabout Mini Golf', 'DOOMBRINGER',\n",
       "       'Tetris Effect: Connected', 'Puyo Puyo Tetris 2', 'Chex Quest',\n",
       "       'Snapshot VR', 'Blaston', 'After-H', 'Madden NFL 22',\n",
       "       'Rezzil Player', 'Cave Digger 2', 'Gym Masters VR',\n",
       "       'Age of Empires IV', 'Golf With Your Friends',\n",
       "       'Zombieland VR: Headshot Fever', 'Melty Blood: Type Lumina',\n",
       "       'Lemnis Gate', 'Call of Duty: Vanguard', 'FIFA 22',\n",
       "       'Naraka: Bladepoint', 'The Binding of Isaac', 'Halo Infinite',\n",
       "       'Jak and Daxter: The Precursur Legacy', 'Pokemon Unite',\n",
       "       'Crab Game', 'F1 2021', 'Rocket League Sideswipe', 'Jak II',\n",
       "       'NBA 2K22', 'Loco Dojo Unleashed', 'Forza Horizon 5',\n",
       "       'King of Fighters XV', 'Pavlov', 'Windjammers 2', 'Contractors',\n",
       "       'Overwatch 2', 'Onmyoji Arena', 'CrossFire HD', 'DNF Duel',\n",
       "       'VAIL VR', 'Racket: NX', 'Nock', 'Super People', 'MultiVersus',\n",
       "       'Blankos Block Party', 'Madden NFL 23',\n",
       "       'WRC 10 FIA World Rally Championship',\n",
       "       \"JoJo's Bizarre Adventure: All Star Battle R\", 'Gran Turismo 7',\n",
       "       'chessarena.com', 'Call of Duty: Warzone 2.0',\n",
       "       'Call of Duty: Modern Warfare II', 'F1 22',\n",
       "       'Dead by Daylight Mobile', 'FIFA 23', 'SuperPlayer',\n",
       "       'Pocket Bravery', 'Epic Roller Coasters VR', 'NHL 23',\n",
       "       'Trackmania United Forever', 'NBA 2K23', 'Temtem',\n",
       "       'Counter-Strike 2', 'Rennsport', 'Street Fighter 6',\n",
       "       'Farming Simulator 22', 'Madden NFL 24', 'Dream Three Kingdoms 2',\n",
       "       'EA Sports FC Online'], dtype=object)"
      ]
     },
     "execution_count": 21,
     "metadata": {},
     "output_type": "execute_result"
    }
   ],
   "source": [
    "# check multiple variables\n",
    "df_earnings_clean['Game'].unique()"
   ]
  },
  {
   "cell_type": "markdown",
   "metadata": {},
   "source": [
    "Tidiness Issue2 - Multiple variables: The value name includes two variables. We can remove it since we already have `ReleaseDate`. We need to confirm whether it is the Game name or just the multiple variables. Include 'Doom (2016)', 'Killer Instinct (2013)', 'Samurai Shodown (2019)'."
   ]
  },
  {
   "cell_type": "code",
   "execution_count": 22,
   "metadata": {},
   "outputs": [
    {
     "data": {
      "text/plain": [
       "5370    2019-02-01\n",
       "9070    2023-06-01\n",
       "5667    2019-06-01\n",
       "8007    2022-01-01\n",
       "Name: Date, dtype: object"
      ]
     },
     "execution_count": 22,
     "metadata": {},
     "output_type": "execute_result"
    }
   ],
   "source": [
    "# check the consistency\n",
    "df_earnings_clean['Date'].sample(4)"
   ]
  },
  {
   "cell_type": "markdown",
   "metadata": {},
   "source": [
    "### Quality Issue\n",
    "#### In GAMES Dataframe, we discover:\n",
    "\n",
    "Quality Issue1 - Accuracy: The `ReleaseDate` is in int64, but it should be date-time type.\n",
    "\n",
    "Quality Issue2 - Invalid data: We can find 0 in `TotalEarnings`. We can drop it.\n",
    "\n",
    "#### In Earnings Dataframe, we discover:\n",
    "\n",
    "Quality Issue3 - Accuracy: The `Date` is in object, but it should be date-time type.\n",
    "\n",
    "Quality Issue4 - Accuracy: `Earnings` have a 0 value, we need to filter out."
   ]
  },
  {
   "cell_type": "markdown",
   "metadata": {
    "id": "lXhGiYyiwwKN"
   },
   "source": [
    "### Tidiness Issue\n",
    "#### In GAMES Dataframe, we discover:\n",
    "\n",
    "Tidiness Issue1 - Clarity: The `Genre`'s value name is hard to identify. We can make it more transparent by simplifying it.\n",
    "\n",
    "Tidiness Issue2 - Multiple variables: The `Game`'s value name includes two variables. We can remove it since we already have `ReleaseDate`. We need to confirm whether it is the Game name or just the multiple variables. Include 'Doom (2016)', 'Killer Instinct (2013)', 'Samurai Shodown (2019)'.\n",
    "\n",
    "#### In Earnings Dataframe, we discover:\n",
    "\n",
    "Also the Tidiness Issue2, we need to rename it."
   ]
  },
  {
   "cell_type": "markdown",
   "metadata": {
    "id": "D6gmLnBttpCh"
   },
   "source": [
    "## 3. Clean data\n",
    "Clean the data to solve the 4 issues corresponding to data quality and tidiness found in the assessing step. **Make sure you include justifications for your cleaning decisions.**\n",
    "\n",
    "After the cleaning for each issue, please use **either** the visually or programatical method to validate the cleaning was succesful.\n",
    "\n",
    "At this stage, you are also expected to remove variables that are unnecessary for your analysis and combine your datasets. Depending on your datasets, you may choose to perform variable combination and elimination before or after the cleaning stage. Your dataset must have **at least** 4 variables after combining the data."
   ]
  },
  {
   "cell_type": "markdown",
   "metadata": {
    "id": "FmFhN52Yyn3l"
   },
   "source": [
    "### **Quality Issue 1 - Accuracy:  The `ReleaseDate` is in int64, but it should be date-time type.**"
   ]
  },
  {
   "cell_type": "code",
   "execution_count": 23,
   "metadata": {
    "id": "9UejDWrNMW4a"
   },
   "outputs": [
    {
     "data": {
      "text/html": [
       "<div>\n",
       "<style scoped>\n",
       "    .dataframe tbody tr th:only-of-type {\n",
       "        vertical-align: middle;\n",
       "    }\n",
       "\n",
       "    .dataframe tbody tr th {\n",
       "        vertical-align: top;\n",
       "    }\n",
       "\n",
       "    .dataframe thead th {\n",
       "        text-align: right;\n",
       "    }\n",
       "</style>\n",
       "<table border=\"1\" class=\"dataframe\">\n",
       "  <thead>\n",
       "    <tr style=\"text-align: right;\">\n",
       "      <th></th>\n",
       "      <th>Game</th>\n",
       "      <th>ReleaseDate</th>\n",
       "      <th>Genre</th>\n",
       "      <th>TotalEarnings</th>\n",
       "      <th>OfflineEarnings</th>\n",
       "      <th>PercentOffline</th>\n",
       "      <th>TotalPlayers</th>\n",
       "      <th>TotalTournaments</th>\n",
       "    </tr>\n",
       "  </thead>\n",
       "  <tbody>\n",
       "    <tr>\n",
       "      <th>0</th>\n",
       "      <td>Age of Empires</td>\n",
       "      <td>1997</td>\n",
       "      <td>Strategy</td>\n",
       "      <td>510716.46</td>\n",
       "      <td>375857.63</td>\n",
       "      <td>0.735942</td>\n",
       "      <td>473</td>\n",
       "      <td>265</td>\n",
       "    </tr>\n",
       "    <tr>\n",
       "      <th>1</th>\n",
       "      <td>Age of Empires II</td>\n",
       "      <td>1999</td>\n",
       "      <td>Strategy</td>\n",
       "      <td>3253232.59</td>\n",
       "      <td>1139384.57</td>\n",
       "      <td>0.350232</td>\n",
       "      <td>1994</td>\n",
       "      <td>1613</td>\n",
       "    </tr>\n",
       "  </tbody>\n",
       "</table>\n",
       "</div>"
      ],
      "text/plain": [
       "                Game  ReleaseDate     Genre  TotalEarnings  OfflineEarnings  \\\n",
       "0     Age of Empires         1997  Strategy      510716.46        375857.63   \n",
       "1  Age of Empires II         1999  Strategy     3253232.59       1139384.57   \n",
       "\n",
       "   PercentOffline  TotalPlayers  TotalTournaments  \n",
       "0        0.735942           473               265  \n",
       "1        0.350232          1994              1613  "
      ]
     },
     "execution_count": 23,
     "metadata": {},
     "output_type": "execute_result"
    }
   ],
   "source": [
    "# FILL IN - Apply the cleaning strategy\n",
    "df_games_clean.head(2)"
   ]
  },
  {
   "cell_type": "code",
   "execution_count": 24,
   "metadata": {},
   "outputs": [],
   "source": [
    "df_games_clean['ReleaseDate'] = pd.to_datetime(df_games_clean['ReleaseDate'])"
   ]
  },
  {
   "cell_type": "code",
   "execution_count": 25,
   "metadata": {
    "id": "oUBee-LPytkv"
   },
   "outputs": [
    {
     "name": "stdout",
     "output_type": "stream",
     "text": [
      "<class 'pandas.core.frame.DataFrame'>\n",
      "RangeIndex: 650 entries, 0 to 649\n",
      "Data columns (total 8 columns):\n",
      " #   Column            Non-Null Count  Dtype         \n",
      "---  ------            --------------  -----         \n",
      " 0   Game              650 non-null    object        \n",
      " 1   ReleaseDate       650 non-null    datetime64[ns]\n",
      " 2   Genre             650 non-null    object        \n",
      " 3   TotalEarnings     650 non-null    float64       \n",
      " 4   OfflineEarnings   650 non-null    float64       \n",
      " 5   PercentOffline    583 non-null    float64       \n",
      " 6   TotalPlayers      650 non-null    int64         \n",
      " 7   TotalTournaments  650 non-null    int64         \n",
      "dtypes: datetime64[ns](1), float64(3), int64(2), object(2)\n",
      "memory usage: 40.8+ KB\n"
     ]
    }
   ],
   "source": [
    "# FILL IN - Validate the cleaning was successful\n",
    "df_games_clean.info()"
   ]
  },
  {
   "cell_type": "markdown",
   "metadata": {},
   "source": [
    "Justification: Change `ReleaseDate` data type to date-time."
   ]
  },
  {
   "cell_type": "markdown",
   "metadata": {
    "id": "n_DAUbJrymBL"
   },
   "source": [
    "### **Quality Issue 2 - Invalid data: We can find 0 in `TotalEarnings`. We can drop it.**"
   ]
  },
  {
   "cell_type": "code",
   "execution_count": 26,
   "metadata": {
    "id": "5Yfb-Yu5MTuE"
   },
   "outputs": [],
   "source": [
    "# Drop rows where 'TotalEarnings' is 0\n",
    "df_games_clean = df_games_clean[df_games_clean['TotalEarnings'] != 0]"
   ]
  },
  {
   "cell_type": "code",
   "execution_count": 27,
   "metadata": {
    "id": "ionB2sRaMUmY"
   },
   "outputs": [
    {
     "data": {
      "text/plain": [
       "count    5.830000e+02\n",
       "mean     2.818256e+06\n",
       "std      1.854405e+07\n",
       "min      1.000000e+01\n",
       "25%      4.949385e+03\n",
       "50%      5.118041e+04\n",
       "75%      4.280790e+05\n",
       "max      3.371080e+08\n",
       "Name: TotalEarnings, dtype: float64"
      ]
     },
     "execution_count": 27,
     "metadata": {},
     "output_type": "execute_result"
    }
   ],
   "source": [
    "#FILL IN - Validate the cleaning was successful\n",
    "df_games_clean['TotalEarnings'].describe()"
   ]
  },
  {
   "cell_type": "code",
   "execution_count": 28,
   "metadata": {},
   "outputs": [],
   "source": [
    "# reset index\n",
    "df_games_clean = df_games_clean.reset_index(drop=True)"
   ]
  },
  {
   "cell_type": "markdown",
   "metadata": {},
   "source": [
    "Justification: Filter out the rows where `TotalEarnings` is 0."
   ]
  },
  {
   "cell_type": "markdown",
   "metadata": {},
   "source": [
    "### **Quality Issue 3 - Accuracy: The `Date` is in object, but it should be date-time type.**"
   ]
  },
  {
   "cell_type": "code",
   "execution_count": 29,
   "metadata": {},
   "outputs": [],
   "source": [
    "# change the data type\n",
    "df_earnings_clean['Date'] = pd.to_datetime(df_earnings_clean['Date'])"
   ]
  },
  {
   "cell_type": "code",
   "execution_count": 30,
   "metadata": {},
   "outputs": [
    {
     "name": "stdout",
     "output_type": "stream",
     "text": [
      "<class 'pandas.core.frame.DataFrame'>\n",
      "RangeIndex: 9244 entries, 0 to 9243\n",
      "Data columns (total 5 columns):\n",
      " #   Column       Non-Null Count  Dtype         \n",
      "---  ------       --------------  -----         \n",
      " 0   Date         9244 non-null   datetime64[ns]\n",
      " 1   Game         9244 non-null   object        \n",
      " 2   Earnings     9244 non-null   float64       \n",
      " 3   Players      9244 non-null   int64         \n",
      " 4   Tournaments  9244 non-null   int64         \n",
      "dtypes: datetime64[ns](1), float64(1), int64(2), object(1)\n",
      "memory usage: 361.2+ KB\n"
     ]
    }
   ],
   "source": [
    "#Validate the cleaning was successful\n",
    "df_earnings_clean.info()"
   ]
  },
  {
   "cell_type": "markdown",
   "metadata": {},
   "source": [
    "Justification: Change `Date` data type to date-time."
   ]
  },
  {
   "cell_type": "markdown",
   "metadata": {},
   "source": [
    "### **Quality Issue 4 - Accuracy: `Earnings` have a 0 value, we need to filter out.**"
   ]
  },
  {
   "cell_type": "code",
   "execution_count": 31,
   "metadata": {},
   "outputs": [],
   "source": [
    "# Drop rows where 'TotalEarnings' is 0\n",
    "df_earnings_clean = df_earnings_clean[df_earnings_clean['Earnings'] != 0]"
   ]
  },
  {
   "cell_type": "code",
   "execution_count": 32,
   "metadata": {},
   "outputs": [
    {
     "data": {
      "text/plain": [
       "count    9.057000e+03\n",
       "mean     1.833644e+05\n",
       "std      1.027340e+06\n",
       "min      1.000000e+01\n",
       "25%      1.250000e+03\n",
       "50%      1.123142e+04\n",
       "75%      7.500000e+04\n",
       "max      4.013865e+07\n",
       "Name: Earnings, dtype: float64"
      ]
     },
     "execution_count": 32,
     "metadata": {},
     "output_type": "execute_result"
    }
   ],
   "source": [
    "# Validate the cleaning was successful\n",
    "df_earnings_clean['Earnings'].describe()"
   ]
  },
  {
   "cell_type": "code",
   "execution_count": 33,
   "metadata": {},
   "outputs": [],
   "source": [
    "# reset index\n",
    "df_earnings_clean = df_earnings_clean.reset_index(drop=True)"
   ]
  },
  {
   "cell_type": "markdown",
   "metadata": {},
   "source": [
    "Justification: Filter out the rows where `Earnings` is 0."
   ]
  },
  {
   "cell_type": "markdown",
   "metadata": {
    "id": "bIUrrfSNyOPR"
   },
   "source": [
    "### **Tidiness Issue 1 - Clarity: The `Genre` 's value name is hard to identify. We can make it more transparent by simplifying it.**"
   ]
  },
  {
   "cell_type": "markdown",
   "metadata": {},
   "source": [
    "To avoid doing the thing twice, we merge two data frames first."
   ]
  },
  {
   "cell_type": "code",
   "execution_count": 34,
   "metadata": {},
   "outputs": [
    {
     "data": {
      "text/html": [
       "<div>\n",
       "<style scoped>\n",
       "    .dataframe tbody tr th:only-of-type {\n",
       "        vertical-align: middle;\n",
       "    }\n",
       "\n",
       "    .dataframe tbody tr th {\n",
       "        vertical-align: top;\n",
       "    }\n",
       "\n",
       "    .dataframe thead th {\n",
       "        text-align: right;\n",
       "    }\n",
       "</style>\n",
       "<table border=\"1\" class=\"dataframe\">\n",
       "  <thead>\n",
       "    <tr style=\"text-align: right;\">\n",
       "      <th></th>\n",
       "      <th>Date</th>\n",
       "      <th>Game</th>\n",
       "      <th>Earnings</th>\n",
       "      <th>Players</th>\n",
       "      <th>Tournaments</th>\n",
       "      <th>Genre</th>\n",
       "      <th>ReleaseDate</th>\n",
       "    </tr>\n",
       "  </thead>\n",
       "  <tbody>\n",
       "    <tr>\n",
       "      <th>0</th>\n",
       "      <td>1998-01-01</td>\n",
       "      <td>Command &amp; Conquer: Red Alert</td>\n",
       "      <td>15000.0</td>\n",
       "      <td>8</td>\n",
       "      <td>1</td>\n",
       "      <td>Strategy</td>\n",
       "      <td>1996</td>\n",
       "    </tr>\n",
       "    <tr>\n",
       "      <th>1</th>\n",
       "      <td>1998-01-01</td>\n",
       "      <td>QuakeWorld</td>\n",
       "      <td>15000.0</td>\n",
       "      <td>8</td>\n",
       "      <td>1</td>\n",
       "      <td>First-Person Shooter</td>\n",
       "      <td>1996</td>\n",
       "    </tr>\n",
       "    <tr>\n",
       "      <th>2</th>\n",
       "      <td>1998-05-01</td>\n",
       "      <td>QuakeWorld</td>\n",
       "      <td>300.0</td>\n",
       "      <td>3</td>\n",
       "      <td>1</td>\n",
       "      <td>First-Person Shooter</td>\n",
       "      <td>1996</td>\n",
       "    </tr>\n",
       "    <tr>\n",
       "      <th>3</th>\n",
       "      <td>1998-11-01</td>\n",
       "      <td>QuakeWorld</td>\n",
       "      <td>30000.0</td>\n",
       "      <td>17</td>\n",
       "      <td>1</td>\n",
       "      <td>First-Person Shooter</td>\n",
       "      <td>1996</td>\n",
       "    </tr>\n",
       "    <tr>\n",
       "      <th>4</th>\n",
       "      <td>2001-07-01</td>\n",
       "      <td>QuakeWorld</td>\n",
       "      <td>15000.0</td>\n",
       "      <td>8</td>\n",
       "      <td>1</td>\n",
       "      <td>First-Person Shooter</td>\n",
       "      <td>1996</td>\n",
       "    </tr>\n",
       "  </tbody>\n",
       "</table>\n",
       "</div>"
      ],
      "text/plain": [
       "         Date                          Game  Earnings  Players  Tournaments  \\\n",
       "0  1998-01-01  Command & Conquer: Red Alert   15000.0        8            1   \n",
       "1  1998-01-01                    QuakeWorld   15000.0        8            1   \n",
       "2  1998-05-01                    QuakeWorld     300.0        3            1   \n",
       "3  1998-11-01                    QuakeWorld   30000.0       17            1   \n",
       "4  2001-07-01                    QuakeWorld   15000.0        8            1   \n",
       "\n",
       "                  Genre  ReleaseDate  \n",
       "0              Strategy         1996  \n",
       "1  First-Person Shooter         1996  \n",
       "2  First-Person Shooter         1996  \n",
       "3  First-Person Shooter         1996  \n",
       "4  First-Person Shooter         1996  "
      ]
     },
     "execution_count": 34,
     "metadata": {},
     "output_type": "execute_result"
    }
   ],
   "source": [
    "# Merge 2 data frames into one\n",
    "df_esports = df_earnings.merge(df_games[['Game','Genre','ReleaseDate']], on = 'Game')\n",
    "df_esports.head()"
   ]
  },
  {
   "cell_type": "markdown",
   "metadata": {},
   "source": [
    "Now, we can use the new data frame to address the tidiness issue."
   ]
  },
  {
   "cell_type": "code",
   "execution_count": 35,
   "metadata": {
    "id": "fib0zAm333bn"
   },
   "outputs": [],
   "source": [
    "# Simplified the name by renaming\n",
    "df_esports.Genre.replace(\n",
    "    {\n",
    "        'First-Person Shooter' : 'FPS',\n",
    "        'Multiplayer Online Battle Arena' : 'MOBA',\n",
    "        'Role-Playing Game' : 'RPG',\n",
    "        'Third-Person Shooter' : 'TPS'\n",
    "    }, inplace = True\n",
    ")"
   ]
  },
  {
   "cell_type": "code",
   "execution_count": 36,
   "metadata": {
    "id": "yhrnUGY_Nk8B"
   },
   "outputs": [
    {
     "data": {
      "text/plain": [
       "array(['Strategy', 'FPS', 'Fighting Game', 'Sports', 'Racing', 'MOBA',\n",
       "       'RPG', 'TPS', 'Music / Rhythm Game', 'Collectible Card Game',\n",
       "       'Puzzle Game', 'Battle Royale'], dtype=object)"
      ]
     },
     "execution_count": 36,
     "metadata": {},
     "output_type": "execute_result"
    }
   ],
   "source": [
    "# Validate the cleaning was successful\n",
    "df_esports.Genre.unique()"
   ]
  },
  {
   "cell_type": "markdown",
   "metadata": {},
   "source": [
    "Justification: Use .replace to rename the value which is too long to identify."
   ]
  },
  {
   "cell_type": "markdown",
   "metadata": {
    "id": "o51Bt8kwyTzk"
   },
   "source": [
    "### **Tidiness Issue 2 - Multiple variables: The `Game`'s value name includes two variables. We can remove it since we already have ReleaseDate. We need to confirm whether it is the Game name or just the multiple variables. Include 'Doom (2016)', 'Killer Instinct (2013)', 'Samurai Shodown (2019)'.**"
   ]
  },
  {
   "cell_type": "code",
   "execution_count": 37,
   "metadata": {
    "id": "7zW8O5yx4Y9O"
   },
   "outputs": [],
   "source": [
    "# exclude the variable we do not need\n",
    "df_esports.Game.replace({\"Doom (2016)\": 'Doom',\n",
    "                         \"Killer Instinct (2013)\": 'Killer Instinct',\n",
    "                         \"Samurai Shodown (2019)\": 'Samurai Shodown',\n",
    "                         }, inplace = True)\n",
    "\n",
    "# Simplified the name by renaming\n",
    "df_esports.Game.replace({\"Counter-Strike: Global Offensive\": 'CS:GO',\n",
    "                         \"PLAYERUNKNOWN'S BATTLEGROUNDS Mobile\": 'PUBG Mobile',\n",
    "                         \"PLAYERUNKNOWN’S BATTLEGROUNDS\": 'PUBG',\n",
    "                         \"Arena of Valor\": 'AoV',\n",
    "                         \"League of Legends\": 'LoL'\n",
    "                         }, inplace = True)"
   ]
  },
  {
   "cell_type": "code",
   "execution_count": 38,
   "metadata": {
    "id": "q6I_Sr7lxXi5"
   },
   "outputs": [
    {
     "data": {
      "text/plain": [
       "array(['Command & Conquer: Red Alert', 'QuakeWorld', 'Quake II',\n",
       "       'Total Annihilation', 'StarCraft: Brood War', 'Age of Empires',\n",
       "       'Descent 3', 'Quake III Arena', 'Age of Empires II',\n",
       "       'Marvel vs. Capcom 2', 'Street Fighter Alpha 2',\n",
       "       'Street Fighter Alpha 3', 'Street Fighter III: 3rd Strike',\n",
       "       'Super Street Fighter II Turbo', 'FIFA 2000',\n",
       "       'Doom II: Hell on Earth', 'Counter-Strike', 'Capcom vs. SNK',\n",
       "       'FIFA 2001', 'Unreal Tournament', 'Aliens versus Predator 2',\n",
       "       'Super Smash Bros. Melee', 'Return to Castle Wolfenstein',\n",
       "       'Capcom vs. SNK 2', 'WarCraft III', 'FIFA 2002 World Cup',\n",
       "       'Halo: Combat Evolved', 'Unreal Tournament 2003',\n",
       "       'NASCAR Thunder 2002', 'Star Wars Jedi Knight II: Jedi Outcast',\n",
       "       'Tekken 4', 'Age of Mythology', 'NASCAR Thunder 2003', 'FIFA 03',\n",
       "       'Guilty Gear XX', 'Soul Calibur II', 'Tekken Tag Tournament',\n",
       "       'Virtua Fighter 4: Evolution', 'Day of Defeat',\n",
       "       'Gran Turismo 3: A-Spec', 'Madden NFL 2004', 'Live for Speed',\n",
       "       'FIFA 04', 'Counter-Strike: Condition Zero',\n",
       "       'Pro Evolution Soccer 3', 'Unreal Tournament 2004', 'Painkiller',\n",
       "       'Doom 3', 'Call of Duty', 'Need for Speed: Underground',\n",
       "       'Project Gotham Racing 2', 'FIFA 05', 'Halo 2',\n",
       "       'Counter-Strike: Source', 'Need for Speed: Underground 2',\n",
       "       'Pro Evolution Soccer 4', 'Gran Turismo 4',\n",
       "       'Wolfenstein: Enemy Territory', 'Quake 4', 'Battlefield 2',\n",
       "       'Guilty Gear XX #Reload', 'Tekken 5',\n",
       "       'Warhammer 40,000: Dawn of War', 'Dead or Alive Ultimate',\n",
       "       'Defense of the Ancients', 'FIFA 06',\n",
       "       'Need for Speed: Most Wanted', 'Madden NFL 2006',\n",
       "       'TrackMania Nations', 'Call of Duty 2', 'Age of Empires III',\n",
       "       'Pro Evolution Soccer 5', 'Dead or Alive 4', 'Forza Motorsport 2',\n",
       "       'Project Gotham Racing 3', 'Ghost Recon Advanced Warfighter',\n",
       "       'Guilty Gear XX Slash', 'Hyper Street Fighter II', 'FIFA 07',\n",
       "       'Madden NFL 2007', 'Rise of Nations: Rise of Legends',\n",
       "       'Need for Speed Carbon', 'World of WarCraft', 'Battlefield 2142',\n",
       "       'Rainbow Six: Vegas', 'Command & Conquer 3',\n",
       "       'S.T.A.L.K.E.R.: Shadow of Chernobyl', 'Supreme Commander',\n",
       "       'Day of Defeat: Source', 'F.E.A.R.', 'World in Conflict',\n",
       "       'Pro Evolution Soccer 6', 'Super Smash Bros.', 'Gears of War',\n",
       "       'Enemy Territory: Quake Wars', 'Guilty Gear XX Accent Core',\n",
       "       'Tekken 5: Dark Resurrection', 'Virtua Fighter 5', 'Shadowrun',\n",
       "       'Madden NFL 2008', 'Carom 3D', 'Crysis',\n",
       "       'Call of Duty 4: Modern Warfare', 'Team Fortress 2', 'FIFA 08',\n",
       "       'Trackmania United', 'Halo 3', 'Unreal Tournament 3',\n",
       "       'Need for Speed: ProStreet', 'Project Gotham Racing 4',\n",
       "       'Pro Evolution Soccer 2008', 'Supreme Commander: Forged Alliance',\n",
       "       'TrackMania Nations Forever', 'Super Smash Bros. Brawl',\n",
       "       'Guitar Hero III: Legends of Rock', 'Rainbow Six: Vegas 2',\n",
       "       'Quake Live', 'Madden NFL 2009', 'Red Stone', 'Asphalt 4',\n",
       "       'FIFA 09', 'Resistance 2', 'Gears of War 2', 'King of Fighters XI',\n",
       "       'Street Fighter IV', 'Super Street Fighter II Turbo HD Remix',\n",
       "       'Guilty Gear XX Accent Core Plus', 'Pro Evolution Soccer 2009',\n",
       "       'BlazBlue: Calamity Trigger', 'Magic: The Gathering Online',\n",
       "       'Wise Star 2', 'Call of Duty: Modern Warfare 2', 'Special Force',\n",
       "       'FIFA 10', 'StarCraft II',\n",
       "       'Tatsunoko vs. Capcom: Ultimate All-Stars', 'Tekken 6',\n",
       "       'Heroes of Newerth', 'KartRider', 'Super Street Fighter IV',\n",
       "       'Guitar Hero 5', 'Need for Speed: Shift',\n",
       "       'Melty Blood: Actress Again', 'LoL', 'FIFA 11', 'Multigaming',\n",
       "       'iRacing.com', 'Forza Motorsport 3', 'rFactor', 'CrossFire',\n",
       "       'Halo: Reach', 'Call of Duty: Black Ops',\n",
       "       'Mortal Kombat vs. DC Universe', 'Ultimate Mortal Kombat 3',\n",
       "       'Point Blank', 'Mortal Kombat 9', 'Marvel vs. Capcom 3',\n",
       "       'Super Street Fighter IV Arcade Edition', 'Bloodline Champions',\n",
       "       'BlazBlue: Continuum Shift II', 'TrackMania 2: Canyon',\n",
       "       'Arcana Heart 3', 'Soul Calibur IV', 'Project M',\n",
       "       'Age of Empires Online', 'Dota 2',\n",
       "       'Call of Duty: Modern Warfare 3', 'FIFA 12',\n",
       "       'Ultimate Marvel vs. Capcom 3', 'World of Tanks', 'Chess.com',\n",
       "       'NHL 12', 'Tekken Tag Tournament 2', 'Forza Motorsport 4',\n",
       "       'Soul Calibur V', 'King of Fighters XIII',\n",
       "       'Street Fighter X Tekken', 'Battlefield 3', 'Gears of War 3',\n",
       "       'CS:GO', 'Counter-Strike Online', 'Pokémon VGC', 'Persona 4 Arena',\n",
       "       'FIFA 13', 'Call of Duty: Black Ops 2', 'Dead or Alive 5',\n",
       "       'Halo 4', 'ShootMania Storm', 'Madden NFL 2013', 'NHL 13',\n",
       "       'TrackMania 2: Stadium', 'Injustice: Gods Among Us',\n",
       "       'Turbo Racing League', 'BlazBlue: Continuum Shift Extend',\n",
       "       'Divekick', 'Skullgirls', 'SMITE', 'S.K.I.L.L. - Special Force 2',\n",
       "       'Dragon Ball Z: Budokai 3', 'FIFA 14', 'Dead or Alive 5 Ultimate',\n",
       "       'Trackmania 2: Valley', 'Hearthstone', 'Call of Duty: Ghosts',\n",
       "       'Battlefield 4', 'Killer Instinct', 'NHL 14',\n",
       "       'BlazBlue: Chronophantasma', 'Guilty Gear XX Accent Core Plus R',\n",
       "       'Attack on Titan Tribute Game', 'FIFA Online 3',\n",
       "       'Skullgirls Encore', 'Soul Calibur II HD Online',\n",
       "       'Ultra Street Fighter IV', 'Virtua Fighter 5 Final Showdown',\n",
       "       'Pro Evolution Soccer 2014', 'Halo 2 Anniversary',\n",
       "       'Under Night In-Birth EXE: Late', 'FIFA 15', 'rFactor 2',\n",
       "       'Xonotic', 'Super Smash Bros. for Wii U',\n",
       "       'Persona 4 Arena Ultimax', 'Call of Duty: Advanced Warfare',\n",
       "       'Guild Wars 2', 'Heroes of the Storm', 'Just Dance 2014',\n",
       "       'Guilty Gear Xrd -SIGN-', 'Dead or Alive 5: Last Round', 'NHL 15',\n",
       "       'Evolve', 'Mortal Kombat X', 'Battlefield Hardline',\n",
       "       'Legend of Glory', 'Reflex', 'Pro Evolution Soccer 2015',\n",
       "       'BlazBlue: Chronophantasma Extend', 'Tekken 7', 'Brawlhalla',\n",
       "       'Vainglory', 'Halo 5: Guardians', 'Rocket League', 'Splatoon',\n",
       "       'H1Z1', \"NHL '94\", 'Grey Goo', 'FIFA 16', 'Shards of War',\n",
       "       'Rising Thunder', 'Tetris', 'Project Cars',\n",
       "       'Nitroplus Blasterz: Heroines Infinite Duel',\n",
       "       'Dengeki Bunko: Fighting Climax', 'Blade & Soul',\n",
       "       'Call of Duty: Black Ops III', 'Overwatch',\n",
       "       'Unreal Tournament (2016)', 'osu!',\n",
       "       'Gears of War: Ultimate Edition', 'Metal Gear Online',\n",
       "       'Rainbow Six Siege', 'Street Fighter V', 'Old School Runescape',\n",
       "       'Pokkén Tournament', 'Clash Royale',\n",
       "       'Naruto Shippuden: Ultimate Ninja Storm 4', 'Trackmania Turbo',\n",
       "       'Rivals of Aether', 'Guilty Gear Xrd -REVELATOR-',\n",
       "       'Pro Evolution Soccer 2016', 'Vampire Savior',\n",
       "       'King of Fighters 2002 Unlimited Match',\n",
       "       'Dengeki Bunko: Fighting Climax Ignition', 'Paladins',\n",
       "       'Madden NFL 2016', 'Mortal Kombat XL', 'AoV',\n",
       "       \"Uncharted 4: A Thief's End\", 'King of Fighters XIV', 'Battlerite',\n",
       "       'CrossFire Mobile', 'Gears of War 4', 'FIFA 17',\n",
       "       'BlazBlue: Central Fiction', 'Pro Evolution Soccer 2017',\n",
       "       'Skullgirls 2nd Encore', 'Melty Blood: Actress Again Current Code',\n",
       "       'Catherine', 'Koihime Enbu', 'Arcana Heart 3: LOVE MAX!!!!!',\n",
       "       'Aquapazza: Aquaplus Dream Match', 'Forza Motorsport 6',\n",
       "       'MechWarrior Online', 'Call of Duty: Infinite Warfare',\n",
       "       'Madden NFL 2017', 'MOBA Legends', 'Mad Skills Motocross 2',\n",
       "       'ComPet', 'Mystery Game Tournament', 'Tetris Ultimate',\n",
       "       'Critical Ops', 'Yu-Gi-Oh! Duel Links', 'Gwent', 'Injustice 2',\n",
       "       'Guilty Gear Xrd REV 2', 'Quake Champions', 'Heavy Metal Machines',\n",
       "       'Hand of the Gods', 'Company of Heroes 2', 'ARMS', 'PUBG', 'Doom',\n",
       "       'Rage', 'The Elder Scrolls: Legends',\n",
       "       'Under Night In-Birth EXE: Late[st]', 'Splatoon 2',\n",
       "       'Mobile Legends: Bang Bang', 'StarCraft: Remastered',\n",
       "       'Marvel vs. Capcom: Infinite', 'Pokkén Tournament DX',\n",
       "       'Gundam Versus', 'Puyo Puyo Tetris',\n",
       "       'Chaos Code: New Sign of Catastrophe', 'Echo Arena',\n",
       "       'Clash of Clans', 'Windjammers', 'Summoners War: Sky Arena',\n",
       "       'Call of Duty: WWII', 'World of Tanks Blitz', 'FIFA 18',\n",
       "       'Madden NFL 2018', 'The Unspoken', 'Shadowverse',\n",
       "       'Power Rangers: Legacy Wars', 'Street Fighter V: Arcade Edition',\n",
       "       'Lichess', 'Arcana Heart 3: Love Max Six Stars!!!!!', 'Fortnite',\n",
       "       'NHL 18', 'Faeria', 'Dragon Ball FighterZ',\n",
       "       'BlazBlue: Cross Tag Battle', 'Warsow', 'Zula', 'Project Cars 2',\n",
       "       'Battalion 1944', 'Radical Heights', 'NBA 2K18',\n",
       "       'RaceRoom Racing Experience', 'Sailor Moon S',\n",
       "       'Garou: Mark of the Wolves', 'Samurai Shodown V Special',\n",
       "       'Forza Motorsport 7', 'Warface', 'Pro Evolution Soccer 2018',\n",
       "       'Realm Royale', 'Guns of Boom', 'Archangel Hellfire', 'Onward',\n",
       "       'FIFA Online 4', 'Sprint Vector', 'Gran Turismo Sport',\n",
       "       'Fighting EX Layer', 'Soul Calibur VI',\n",
       "       'SNK Heroines: Tag Team Frenzy', 'Call of Duty: Black Ops 4',\n",
       "       'Call of Duty: Blackout', 'PUBG Mobile', 'FIFA 19',\n",
       "       'Assetto Corsa', 'NHL 19', 'Black Squad',\n",
       "       'Street Fighter EX2 Plus', 'Artifact Classic', 'F1 2018',\n",
       "       'Creative Destruction', 'Super Smash Bros. Ultimate',\n",
       "       'Madden NFL 19', 'Magic: The Gathering Arena', 'Minecraft',\n",
       "       'Mario Kart 8 Deluxe', 'Super Mario Party', 'Lethal League Blaze',\n",
       "       'Free Fire', 'Mario Tennis Aces', 'NBA 2K19', 'Apex Legends',\n",
       "       'Stardew Valley', 'Brawl Stars', 'Dead or Alive 6', 'Auto Chess',\n",
       "       'Million Arthur: Arcana Blood', 'The Division 2',\n",
       "       'Sekiro: Shadows Die Twice', 'Mortal Kombat 11',\n",
       "       'Splitgate: Arena Warfare', 'Space Junkies', 'Puyo Puyo Champions',\n",
       "       'Warparty', 'King of Fighters 98',\n",
       "       'Teenage Mutant Ninja Turtles: Tournament Fighters',\n",
       "       'Pro Evolution Soccer 2019', 'Echo Combat', 'Mordhau',\n",
       "       'Samurai Shodown', 'Dota Underlords', 'Teamfight Tactics',\n",
       "       'Power Rangers: Battle for the Grid', 'Ring of Elysium', 'Gears 5',\n",
       "       'Sea of Thieves', 'Farming Simulator 19',\n",
       "       'Virtua Fighter 5: Ultimate Showdown', 'Asphalt 9: Legends',\n",
       "       'FIFA 20', 'Kill la Kill the Game: IF', 'Ultra Fight Da! Kyanta 2',\n",
       "       \"Fighter's History Dynamite\", 'Catherine: Full Body',\n",
       "       'Project Justice', 'Hokuto no Ken', 'Umineko: Golden Fantasia',\n",
       "       'Guilty Gear', 'Borderlands 3', 'Acceleration of SUGURI 2',\n",
       "       \"Them's Fightin' Herds\", 'Big Buck Hunter Arcade', 'WWE 2K20',\n",
       "       'Dead By Daylight', 'Call of Duty: Modern Warfare',\n",
       "       'Hearthstone Battlegrounds', 'Madden NFL 20', 'F1 2019', 'TEPPEN',\n",
       "       'GRID (2019)', 'Shovel Knight Showdown', 'UNO', 'Dirt Rally 2.0',\n",
       "       'Fantasy Strike', 'WarCraft III: Reforged',\n",
       "       'Touhou Hisoutensoku ~ Choudokyuu Ginyoru no Nazo o Oe',\n",
       "       'NBA 2K20', 'Street Fighter V: Champion Edition',\n",
       "       'Under Night In-Birth Exe:Late[cl-r]', 'Magical Drop III',\n",
       "       'Call of Duty: Warzone', 'Legends of Runeterra', 'Diabotical',\n",
       "       'Granblue Fantasy: Versus', 'VALORANT', 'Escape from Tarkov',\n",
       "       'chess24', 'Pistol Whip', 'Pokémon GO',\n",
       "       'Assetto Corsa Competizione', 'Tetr.io', 'Playchess.com',\n",
       "       'Prophecy', 'Beat Aim', 'Internet Chess Club', 'SLAYERS FOR HIRE',\n",
       "       'Punch Planet', 'Slap City', 'Duck Game', 'Maiden & Spell',\n",
       "       'Naruto: Gekitou Ninja Taisen! 4', 'Def Jam: Fight for NY',\n",
       "       'Schwarzerblitz', 'Twinkle Star Sprites', 'Digimon Rumble Arena',\n",
       "       'Pocket Rumble', 'Fight of Animals', 'HYPERFIGHT',\n",
       "       \"JoJo's Bizarre Adventure: Heritage for the Future\",\n",
       "       'Power Instinct: Matrimelee', 'Roof Rage', 'Shrek SuperSlam',\n",
       "       'Speedrunners', 'Panel Attack', 'Samurai Shodown III',\n",
       "       'Akatsuki Blitzkampf', 'Project Plus', 'The Last Blade 2',\n",
       "       'Asuka 120% LimitOver BURNING Fest.', 'Eternal Fighter Zero',\n",
       "       'Hyper Scape', 'NASCAR Heat 4', 'Rocket Arena',\n",
       "       'Trackmania (2020)', 'Tower Tag', 'Artifact Foundry', 'eFootball',\n",
       "       'Fall Guys', 'Beat Saber', 'Jstris', 'Cultris II',\n",
       "       'Breakers Revenge', 'GOLF Plus', 'Synth Riders', 'Audio Trip',\n",
       "       'Rushdown Revolt', 'Spellbreak', 'Among Us', 'Identity V',\n",
       "       'F1 2020', 'NBA 2K21', 'Call of Duty: Black Ops Cold War',\n",
       "       'Smash Remix', 'Kirby Fighters 2', 'Aim Gods', 'FIFA 21',\n",
       "       'Rogue Company', 'Zwift', 'Nascar Heat 5', 'Star Wars: Squadrons',\n",
       "       'Call of Duty: Mobile', 'Microsoft Excel', 'Madden NFL 21',\n",
       "       'League of Legends: Wild Rift', 'Void Racer',\n",
       "       'Mighty Fight Federation',\n",
       "       'Mobile Suit Gundam: Extreme Vs Maxi Boost ON', 'Red Earth',\n",
       "       'Toribash', 'Tough Love Arena', 'Guilty Gear -STRIVE-', 'Mythgard',\n",
       "       'Ninja Legends', 'Walkabout Mini Golf', 'DOOMBRINGER',\n",
       "       'Tetris Effect: Connected', 'Puyo Puyo Tetris 2', 'Chex Quest',\n",
       "       'Snapshot VR', 'Blaston', 'After-H', 'Madden NFL 22',\n",
       "       'Rezzil Player', 'Cave Digger 2', 'Gym Masters VR',\n",
       "       'Age of Empires IV', 'Golf With Your Friends',\n",
       "       'Zombieland VR: Headshot Fever', 'Melty Blood: Type Lumina',\n",
       "       'Lemnis Gate', 'Call of Duty: Vanguard', 'FIFA 22',\n",
       "       'Naraka: Bladepoint', 'The Binding of Isaac', 'Halo Infinite',\n",
       "       'Jak and Daxter: The Precursur Legacy', 'Pokemon Unite',\n",
       "       'Crab Game', 'F1 2021', 'Rocket League Sideswipe', 'Jak II',\n",
       "       'NBA 2K22', 'Loco Dojo Unleashed', 'Forza Horizon 5',\n",
       "       'King of Fighters XV', 'Pavlov', 'Windjammers 2', 'Contractors',\n",
       "       'Overwatch 2', 'Onmyoji Arena', 'CrossFire HD', 'DNF Duel',\n",
       "       'VAIL VR', 'Racket: NX', 'Nock', 'Super People', 'MultiVersus',\n",
       "       'Blankos Block Party', 'Madden NFL 23',\n",
       "       'WRC 10 FIA World Rally Championship',\n",
       "       \"JoJo's Bizarre Adventure: All Star Battle R\", 'Gran Turismo 7',\n",
       "       'chessarena.com', 'Call of Duty: Warzone 2.0',\n",
       "       'Call of Duty: Modern Warfare II', 'F1 22',\n",
       "       'Dead by Daylight Mobile', 'FIFA 23', 'SuperPlayer',\n",
       "       'Pocket Bravery', 'Epic Roller Coasters VR', 'NHL 23',\n",
       "       'Trackmania United Forever', 'NBA 2K23', 'Temtem',\n",
       "       'Counter-Strike 2', 'Rennsport', 'Street Fighter 6',\n",
       "       'Farming Simulator 22', 'Madden NFL 24', 'Dream Three Kingdoms 2',\n",
       "       'EA Sports FC Online'], dtype=object)"
      ]
     },
     "execution_count": 38,
     "metadata": {},
     "output_type": "execute_result"
    }
   ],
   "source": [
    "#FILL IN - Validate the cleaning was successful\n",
    "df_esports.Game.unique()"
   ]
  },
  {
   "cell_type": "markdown",
   "metadata": {},
   "source": [
    "Justification: Use .replace to rename the value which is too long to identify."
   ]
  },
  {
   "cell_type": "markdown",
   "metadata": {
    "id": "F42urHuzttjF"
   },
   "source": [
    "## 4. Update your data store\n",
    "Update your local database/data store with the cleaned data, following best practices for storing your cleaned data:\n",
    "\n",
    "- Must maintain different instances / versions of data (raw and cleaned data)\n",
    "- Must name the dataset files informatively\n",
    "- Ensure both the raw and cleaned data is saved to your database/data store"
   ]
  },
  {
   "cell_type": "code",
   "execution_count": 39,
   "metadata": {
    "id": "V3uay7EJUV_L"
   },
   "outputs": [],
   "source": [
    "#FILL IN - saving data\n",
    "#FILL IN - saving data\n",
    "df_esports.to_csv('Data/df_esports.csv', index=False)"
   ]
  },
  {
   "cell_type": "markdown",
   "metadata": {
    "id": "cGy_yddGtzhM"
   },
   "source": [
    "## 5. Answer the research question\n",
    "\n",
    "### **5.1:** Define and answer the research question \n",
    "Going back to the problem statement in step 1, use the cleaned data to answer the question you raised. Produce **at least** two visualizations using the cleaned data and explain how they help you answer the question."
   ]
  },
  {
   "cell_type": "markdown",
   "metadata": {
    "id": "gjedE4s4ZkEd"
   },
   "source": [
    "**Research question:**\n",
    "1. Top 10 Earnings by Game All Times\n",
    "2. Top Genre Earnings All Times"
   ]
  },
  {
   "cell_type": "markdown",
   "metadata": {},
   "source": [
    "#### 1. Top 10 Earnings by Game All Times"
   ]
  },
  {
   "cell_type": "code",
   "execution_count": 40,
   "metadata": {},
   "outputs": [
    {
     "data": {
      "text/html": [
       "<div>\n",
       "<style scoped>\n",
       "    .dataframe tbody tr th:only-of-type {\n",
       "        vertical-align: middle;\n",
       "    }\n",
       "\n",
       "    .dataframe tbody tr th {\n",
       "        vertical-align: top;\n",
       "    }\n",
       "\n",
       "    .dataframe thead th {\n",
       "        text-align: right;\n",
       "    }\n",
       "</style>\n",
       "<table border=\"1\" class=\"dataframe\">\n",
       "  <thead>\n",
       "    <tr style=\"text-align: right;\">\n",
       "      <th></th>\n",
       "      <th>Game</th>\n",
       "      <th>ReleaseDate</th>\n",
       "      <th>Genre</th>\n",
       "      <th>Earnings</th>\n",
       "    </tr>\n",
       "  </thead>\n",
       "  <tbody>\n",
       "    <tr>\n",
       "      <th>0</th>\n",
       "      <td>ARMS</td>\n",
       "      <td>2017</td>\n",
       "      <td>Fighting Game</td>\n",
       "      <td>22559.90</td>\n",
       "    </tr>\n",
       "    <tr>\n",
       "      <th>1</th>\n",
       "      <td>Acceleration of SUGURI 2</td>\n",
       "      <td>2018</td>\n",
       "      <td>Fighting Game</td>\n",
       "      <td>410.00</td>\n",
       "    </tr>\n",
       "    <tr>\n",
       "      <th>2</th>\n",
       "      <td>After-H</td>\n",
       "      <td>2019</td>\n",
       "      <td>FPS</td>\n",
       "      <td>44880.40</td>\n",
       "    </tr>\n",
       "    <tr>\n",
       "      <th>3</th>\n",
       "      <td>Age of Empires</td>\n",
       "      <td>1997</td>\n",
       "      <td>Strategy</td>\n",
       "      <td>510716.46</td>\n",
       "    </tr>\n",
       "    <tr>\n",
       "      <th>4</th>\n",
       "      <td>Age of Empires II</td>\n",
       "      <td>1999</td>\n",
       "      <td>Strategy</td>\n",
       "      <td>3254332.59</td>\n",
       "    </tr>\n",
       "  </tbody>\n",
       "</table>\n",
       "</div>"
      ],
      "text/plain": [
       "                       Game  ReleaseDate          Genre    Earnings\n",
       "0                      ARMS         2017  Fighting Game    22559.90\n",
       "1  Acceleration of SUGURI 2         2018  Fighting Game      410.00\n",
       "2                   After-H         2019            FPS    44880.40\n",
       "3            Age of Empires         1997       Strategy   510716.46\n",
       "4         Age of Empires II         1999       Strategy  3254332.59"
      ]
     },
     "execution_count": 40,
     "metadata": {},
     "output_type": "execute_result"
    }
   ],
   "source": [
    "# Calculating earnings\n",
    "topgames = df_esports.copy()\n",
    "topgames = topgames.groupby(['Game', 'ReleaseDate', 'Genre'])['Earnings'].sum().reset_index()\n",
    "topgames.head()"
   ]
  },
  {
   "cell_type": "markdown",
   "metadata": {},
   "source": [
    "Because the `Earnings` variable is vast, we round it in Millions of USD."
   ]
  },
  {
   "cell_type": "code",
   "execution_count": 41,
   "metadata": {},
   "outputs": [
    {
     "data": {
      "text/html": [
       "<div>\n",
       "<style scoped>\n",
       "    .dataframe tbody tr th:only-of-type {\n",
       "        vertical-align: middle;\n",
       "    }\n",
       "\n",
       "    .dataframe tbody tr th {\n",
       "        vertical-align: top;\n",
       "    }\n",
       "\n",
       "    .dataframe thead th {\n",
       "        text-align: right;\n",
       "    }\n",
       "</style>\n",
       "<table border=\"1\" class=\"dataframe\">\n",
       "  <thead>\n",
       "    <tr style=\"text-align: right;\">\n",
       "      <th></th>\n",
       "      <th>Game</th>\n",
       "      <th>ReleaseDate</th>\n",
       "      <th>Genre</th>\n",
       "      <th>Earnings</th>\n",
       "    </tr>\n",
       "  </thead>\n",
       "  <tbody>\n",
       "    <tr>\n",
       "      <th>0</th>\n",
       "      <td>Dota 2</td>\n",
       "      <td>2013</td>\n",
       "      <td>MOBA</td>\n",
       "      <td>337.0</td>\n",
       "    </tr>\n",
       "    <tr>\n",
       "      <th>1</th>\n",
       "      <td>Fortnite</td>\n",
       "      <td>2017</td>\n",
       "      <td>Battle Royale</td>\n",
       "      <td>170.0</td>\n",
       "    </tr>\n",
       "    <tr>\n",
       "      <th>2</th>\n",
       "      <td>CS:GO</td>\n",
       "      <td>2012</td>\n",
       "      <td>FPS</td>\n",
       "      <td>162.0</td>\n",
       "    </tr>\n",
       "    <tr>\n",
       "      <th>3</th>\n",
       "      <td>LoL</td>\n",
       "      <td>2009</td>\n",
       "      <td>MOBA</td>\n",
       "      <td>105.0</td>\n",
       "    </tr>\n",
       "    <tr>\n",
       "      <th>4</th>\n",
       "      <td>AoV</td>\n",
       "      <td>2015</td>\n",
       "      <td>MOBA</td>\n",
       "      <td>86.0</td>\n",
       "    </tr>\n",
       "    <tr>\n",
       "      <th>5</th>\n",
       "      <td>PUBG Mobile</td>\n",
       "      <td>2017</td>\n",
       "      <td>Battle Royale</td>\n",
       "      <td>74.0</td>\n",
       "    </tr>\n",
       "    <tr>\n",
       "      <th>6</th>\n",
       "      <td>PUBG</td>\n",
       "      <td>2017</td>\n",
       "      <td>Battle Royale</td>\n",
       "      <td>57.0</td>\n",
       "    </tr>\n",
       "    <tr>\n",
       "      <th>7</th>\n",
       "      <td>StarCraft II</td>\n",
       "      <td>2010</td>\n",
       "      <td>Strategy</td>\n",
       "      <td>40.0</td>\n",
       "    </tr>\n",
       "    <tr>\n",
       "      <th>8</th>\n",
       "      <td>Rainbow Six Siege</td>\n",
       "      <td>2015</td>\n",
       "      <td>FPS</td>\n",
       "      <td>39.0</td>\n",
       "    </tr>\n",
       "    <tr>\n",
       "      <th>9</th>\n",
       "      <td>Rocket League</td>\n",
       "      <td>2015</td>\n",
       "      <td>Sports</td>\n",
       "      <td>35.0</td>\n",
       "    </tr>\n",
       "  </tbody>\n",
       "</table>\n",
       "</div>"
      ],
      "text/plain": [
       "                Game  ReleaseDate          Genre  Earnings\n",
       "0             Dota 2         2013           MOBA     337.0\n",
       "1           Fortnite         2017  Battle Royale     170.0\n",
       "2              CS:GO         2012            FPS     162.0\n",
       "3                LoL         2009           MOBA     105.0\n",
       "4                AoV         2015           MOBA      86.0\n",
       "5        PUBG Mobile         2017  Battle Royale      74.0\n",
       "6               PUBG         2017  Battle Royale      57.0\n",
       "7       StarCraft II         2010       Strategy      40.0\n",
       "8  Rainbow Six Siege         2015            FPS      39.0\n",
       "9      Rocket League         2015         Sports      35.0"
      ]
     },
     "execution_count": 41,
     "metadata": {},
     "output_type": "execute_result"
    }
   ],
   "source": [
    "# Converting into Million USD\n",
    "topgames['Earnings'] = round(topgames['Earnings']/1000000)\n",
    "topgames = topgames.sort_values('Earnings', ascending=False, ignore_index=True)\n",
    "topgames.head(10)"
   ]
  },
  {
   "cell_type": "code",
   "execution_count": 42,
   "metadata": {
    "id": "Lkw3rW9kZmOm"
   },
   "outputs": [
    {
     "data": {
      "image/png": "[encoded data removed]",
      "text/plain": [
       "<Figure size 1000x600 with 1 Axes>"
      ]
     },
     "metadata": {},
     "output_type": "display_data"
    }
   ],
   "source": [
    "# Making a bar chart\n",
    "plt.figure(figsize=(10,6))\n",
    "sns.barplot(x = 'Earnings',\n",
    "            y = 'Game',\n",
    "            data = topgames.head(10),)\n",
    "plt.xlabel('Earning in Million USD')\n",
    "plt.title('Top 10 Earning by Games')\n",
    "plt.show()"
   ]
  },
  {
   "cell_type": "markdown",
   "metadata": {},
   "source": [
    "After reviewing the analysis charts, it was surprising to discover that Dota 2's global popularity may not have surpassed that of LoL. Moreover, Dota 2 was released later than LoL, yet its overall prize pool is significantly higher. Some discussions suggest that this might be due to LoL adopting a franchise system, which may result in a lower prize pool than in other games. Another noteworthy point is that Fortnite, released in 2017, currently holds the second position, highlighting its immense impact."
   ]
  },
  {
   "cell_type": "code",
   "execution_count": 43,
   "metadata": {},
   "outputs": [],
   "source": [
    "# Calculate the sum of earnings for each genre\n",
    "genre_counts = topgames.groupby('Genre')['Earnings'].sum()\n",
    "\n",
    "# Sorted top to down\n",
    "sorted_genres = genre_counts.sort_values(ascending=False)\n",
    "\n",
    "# sorted top 3 genres\n",
    "top_genres = sorted_genres[:3]\n",
    "other_genres = sorted_genres[3:].sum()"
   ]
  },
  {
   "cell_type": "code",
   "execution_count": 44,
   "metadata": {},
   "outputs": [
    {
     "data": {
      "text/plain": [
       "MOBA             591.0\n",
       "FPS              408.0\n",
       "Battle Royale    339.0\n",
       "Other            302.0\n",
       "dtype: float64"
      ]
     },
     "execution_count": 44,
     "metadata": {},
     "output_type": "execute_result"
    }
   ],
   "source": [
    "# Create a new series (combining Top 4 genres & other genres)\n",
    "new_genre_counts = pd.concat([top_genres, pd.Series([other_genres], index=['Other'])])\n",
    "\n",
    "new_genre_counts"
   ]
  },
  {
   "cell_type": "code",
   "execution_count": 61,
   "metadata": {
    "id": "6fdK_8ZGZm9R"
   },
   "outputs": [
    {
     "data": {
      "image/png": "[encoded data removed]",
      "text/plain": [
       "<Figure size 1000x600 with 1 Axes>"
      ]
     },
     "metadata": {},
     "output_type": "display_data"
    }
   ],
   "source": [
    "# Making a Pie Chart\n",
    "plt.figure(figsize=(10, 6))\n",
    "plt.pie(new_genre_counts, labels=new_genre_counts.index, autopct='%.1f%%', startangle=90)\n",
    "plt.axis('equal')\n",
    "plt.title('Genre Distribution by Earnings')\n",
    "plt.show()"
   ]
  },
  {
   "cell_type": "markdown",
   "metadata": {
    "id": "K5RgvMGUZoHn"
   },
   "source": [
    "The charts above show that the prize money for MOBA games far exceeds that of other genres, totaling 591 million USD. This also indicates the immense popularity of this genre, with three out of the top five games being MOBAs. The presence of CS-related series in the top ranks is expected, given their established status among players. However, the most impressive category is Battle Royale, with three games from this genre making it into the top ten. Notably, all three of them were released in 2017, showcasing the rapid growth they've experienced. This category has a high chance of surpassing the second-ranking FPS in the future, as their gaming dynamics share some similarities."
   ]
  },
  {
   "cell_type": "markdown",
   "metadata": {
    "id": "0ezWXXZVj-TP"
   },
   "source": [
    "### **5.2:** Reflection"
   ]
  },
  {
   "cell_type": "markdown",
   "metadata": {
    "id": "XB3RBDG5kFe1"
   },
   "source": [
    "If there were more time, I would like to delve into analyzing additional time-related topics, such as comparing the prize pools of games released in the past decade with those of all previous games. Alternatively, I would focus on exploring emerging categories beyond the popular three genres to see if there are any overlooked trends."
   ]
  },
  {
   "cell_type": "code",
   "execution_count": null,
   "metadata": {},
   "outputs": [],
   "source": [
    "# Export notebook as HTML\n",
    "!python3 -m nbconvert --to html *.ipynb"
   ]
  }
 ],
 "metadata": {
  "colab": {
   "provenance": []
  },
  "kernelspec": {
   "display_name": "Python 3 (ipykernel)",
   "language": "python",
   "name": "python3"
  },
  "language_info": {
   "codemirror_mode": {
    "name": "ipython",
    "version": 3
   },
   "file_extension": ".py",
   "mimetype": "text/x-python",
   "name": "python",
   "nbconvert_exporter": "python",
   "pygments_lexer": "ipython3",
   "version": "3.10.10"
  }
 },
 "nbformat": 4,
 "nbformat_minor": 1
}
